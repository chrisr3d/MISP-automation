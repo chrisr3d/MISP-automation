{
 "cells": [
  {
   "cell_type": "markdown",
   "id": "7ce89d2d",
   "metadata": {},
   "source": [
    "# Automate the collection of data from network captures\n",
    "\n",
    "`Wireshark` and `thsark` alternative in Python is `pyshark`.  \n",
    "We could definitely play with it and avoid being bothered with subprocesses, but...  \n",
    "`pyshark` is way too slow.\n",
    "\n",
    "The preferred solution for today is then going to be:\n",
    "- Calling bash subprocesses with the `subprocess` library\n",
    "- Which allows us to use `tshark` (or any other preferred network capture parsing tool)\n",
    "- We can even use `parallel` to make it quicker\n",
    "\n",
    "### Non exhaustive list of useful libraries to make our life easier\n",
    "\n",
    "#### argparse\n",
    "\n",
    "`argparse` is a powerful and easy-to-use command-line argument parser library for Python. It allows you to write code that can accept a variety of input options and arguments when the code is run from the command line.\n",
    "\n",
    "#### PyMISP (obviously)\n",
    "\n",
    "The main point here is to use PyMISP to automatically encode the data into MISP Events, Attributes & Objects  \n",
    "And it is also more convenient that writing dictionaries by hand.\n",
    "\n",
    "### Hints for the PCAP parsing\n",
    "\n",
    "#### Focus on a specific type of data\n",
    "\n",
    "One strategy could be to focus on a specific type of data first, like the DNS requests, the HTTP connections, etc.  \n",
    "We can then add additional features.\n",
    "\n",
    "#### Choose an output format\n",
    "\n",
    "`tshark` is able to display the packets of a netwrk capture in different formats.  \n",
    "There is for instance:\n",
    "    - `fields` -> content is displayed in a 'CSV like' format with each packet being a line of values separated by a certain separator (that we can specify in our `tshark` command)\n",
    "    - `json` -> each packet is displayed in a JSON blob\n",
    "    \n",
    "The next question after we chose our favorite output format is: Do we filter the fields to display (recommanded for the `fields` display) or keep everything available (OK if we use the `json` display)\n",
    "\n",
    "## Examples of questions\n",
    "\n",
    "#### Encode the network connections\n",
    "\n",
    "#### Extend the parsing to support more protocols\n",
    "\n",
    "#### Search for other MISP objects that could be encoded\n",
    "\n",
    "For instance:\n",
    "- passive-dns\n",
    "- passive-ssh\n",
    "- files\n",
    "- etc."
   ]
  },
  {
   "cell_type": "code",
   "execution_count": null,
   "id": "b4426e8a",
   "metadata": {},
   "outputs": [],
   "source": [
    "!python pcap2misp.py -i data/2021-08-19-traffic-analysis-exercise.pcap"
   ]
  },
  {
   "cell_type": "code",
   "execution_count": null,
   "id": "e3d1c0a0",
   "metadata": {},
   "outputs": [],
   "source": []
  }
 ],
 "metadata": {
  "kernelspec": {
   "display_name": "Python 3 (ipykernel)",
   "language": "python",
   "name": "python3"
  },
  "language_info": {
   "codemirror_mode": {
    "name": "ipython",
    "version": 3
   },
   "file_extension": ".py",
   "mimetype": "text/x-python",
   "name": "python",
   "nbconvert_exporter": "python",
   "pygments_lexer": "ipython3",
   "version": "3.10.6"
  }
 },
 "nbformat": 4,
 "nbformat_minor": 5
}
