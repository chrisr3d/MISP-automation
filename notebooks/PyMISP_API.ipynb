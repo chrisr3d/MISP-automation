{
 "cells": [
  {
   "cell_type": "markdown",
   "id": "a0289014",
   "metadata": {},
   "source": [
    "# Initializing your environment\n",
    "\n",
    "## Setting up a virtual environment\n",
    "(Optional but recommended)\n",
    "\n",
    "```bash\n",
    "virtualenv -p python3 venv\n",
    "source venv/bin/activate\n",
    "```\n",
    "(Use `deactivate` to exit from `source` once you are done)\n",
    "\n",
    "Alternatively you can also prefix all your `python` and `pip` commands with `./venv/bin/` (e.g: `./venv/bin/pip3 install -U pip`)\n",
    "\n",
    "\n",
    "\n",
    "## Setting up Jupyter\n",
    "\n",
    "In order to follow along on your computer:\n",
    "\n",
    "```bash\n",
    "pip3 install notebook\n",
    "jupyter-notebook\n",
    "```\n",
    "\n",
    "## Installation of PyMISP\n",
    "\n",
    "#### Make sure the submodules are up-to-date and cloned\n",
    "\n",
    "```bash\n",
    "git submodule update --init --recursive PyMISP/\n",
    "```\n",
    "\n",
    "#### Install PyMISP with the developer options\n",
    "\n",
    "```bash\n",
    "cd PyMISP\n",
    "pip3 install -e .\n",
    "```"
   ]
  },
  {
   "cell_type": "markdown",
   "id": "dbe7cd1c",
   "metadata": {},
   "source": [
    "# Interacting with your MISP instance\n",
    "\n",
    "## Initializing the variables\n",
    "\n",
    "We need to set a few variables:\n",
    "- The URL of the MISP instance\n",
    "- Your authentication key\n",
    "- The certificate verification bool variable"
   ]
  },
  {
   "cell_type": "code",
   "execution_count": null,
   "id": "df8f863a",
   "metadata": {},
   "outputs": [],
   "source": [
    "# The URL of the MISP instance to connect to\n",
    "misp_url = 'https://iglocska.eu'\n",
    "\n",
    "# The authentication key (can be found in the MISP\n",
    "# web interface under _misp_url_/users/view/me -> Authkey)\n",
    "misp_key = 'd6OmdDFvU3Seau3UjwvHS1y3tFQbaRNhJhDX0tjh'\n",
    "\n",
    "# Should PyMISP verify the MISP certificate\n",
    "misp_verifycert = False"
   ]
  },
  {
   "cell_type": "markdown",
   "id": "99f50a33",
   "metadata": {},
   "source": [
    "Now we can use the API class"
   ]
  },
  {
   "cell_type": "code",
   "execution_count": null,
   "id": "6cc598a1",
   "metadata": {},
   "outputs": [],
   "source": [
    "from pymisp import PyMISP\n",
    "\n",
    "misp = PyMISP(misp_url, misp_key, misp_verifycert)\n",
    "\n",
    "# In order to return PyMISP objects whenever possible\n",
    "misp.toggle_global_pythonify()"
   ]
  },
  {
   "cell_type": "markdown",
   "id": "8b7144f6",
   "metadata": {},
   "source": []
  }
 ],
 "metadata": {
  "kernelspec": {
   "display_name": "Python 3 (ipykernel)",
   "language": "python",
   "name": "python3"
  },
  "language_info": {
   "codemirror_mode": {
    "name": "ipython",
    "version": 3
   },
   "file_extension": ".py",
   "mimetype": "text/x-python",
   "name": "python",
   "nbconvert_exporter": "python",
   "pygments_lexer": "ipython3",
   "version": "3.10.6"
  }
 },
 "nbformat": 4,
 "nbformat_minor": 5
}
