{
 "cells": [
  {
   "cell_type": "markdown",
   "metadata": {},
   "source": [
    "# Extracting data from MISP using PyMISP"
   ]
  },
  {
   "cell_type": "markdown",
   "metadata": {},
   "source": [
    "## Recovering the API KEY"
   ]
  },
  {
   "cell_type": "markdown",
   "metadata": {},
   "source": [
    "- Go to `Global Actions` then `My Profile`\n",
    "- Access the `/users/view/me` URL"
   ]
  },
  {
   "cell_type": "code",
   "execution_count": 1,
   "metadata": {},
   "outputs": [],
   "source": [
    "from pymisp import PyMISP\n",
    "import urllib3\n",
    "urllib3.disable_warnings()\n",
    "\n",
    "misp_url = 'https://training6.misp-community.org/'\n",
    "misp_key = '_YOUR_AUTHENTICATION_KEY_'\n",
    "# Should PyMISP verify the MISP certificate\n",
    "misp_verifycert = False\n",
    "\n",
    "misp = PyMISP(misp_url, misp_key, misp_verifycert)"
   ]
  },
  {
   "cell_type": "code",
   "execution_count": 2,
   "metadata": {},
   "outputs": [],
   "source": [
    "import datetime\n",
    "from pprint import pprint\n",
    "import base64\n",
    "import subprocess"
   ]
  },
  {
   "cell_type": "markdown",
   "metadata": {},
   "source": [
    "## Retrieving an Event"
   ]
  },
  {
   "cell_type": "code",
   "execution_count": 3,
   "metadata": {},
   "outputs": [
    {
     "name": "stdout",
     "output_type": "stream",
     "text": [
      "<MISPEvent(info=GRU Close Operation OCPW (NL))\n",
      "<class 'dict'>\n",
      "GRU Close Operation OCPW (NL)\n"
     ]
    }
   ],
   "source": [
    "r1 = misp.get_event('bce908c7-4b01-49ed-a9d3-6addfe8cf3f8', pythonify=True)\n",
    "print(r1)\n",
    "r2 = misp.get_event(54, pythonify=False)\n",
    "print(type(r2))\n",
    "print(r2['Event']['info'])"
   ]
  },
  {
   "cell_type": "markdown",
   "metadata": {},
   "source": [
    "## Searching the Event index"
   ]
  },
  {
   "cell_type": "code",
   "execution_count": 4,
   "metadata": {},
   "outputs": [
    {
     "name": "stdout",
     "output_type": "stream",
     "text": [
      "Successful Scammer Call\n"
     ]
    }
   ],
   "source": [
    "r = misp.search_index(pythonify=True)\n",
    "print(r[1].info)"
   ]
  },
  {
   "cell_type": "markdown",
   "metadata": {},
   "source": [
    "#### Only published Events"
   ]
  },
  {
   "cell_type": "code",
   "execution_count": 5,
   "metadata": {},
   "outputs": [
    {
     "name": "stdout",
     "output_type": "stream",
     "text": [
      "[<MISPEvent(info=Successful scam call), <MISPEvent(info=Successful Scammer Call), <MISPEvent(info=Event created via the API as an example), <MISPEvent(info=Test Scam Call), <MISPEvent(info=Successful scam call), <MISPEvent(info=Handsome_Ransomware_1_2024_Lyon_69009), <MISPEvent(info=local event), <MISPEvent(info=Test distribution & sync), <MISPEvent(info=ddos in italy), <MISPEvent(info=Test), <MISPEvent(info=Test G1), <MISPEvent(info=ATM Vulnerabilities Allow Deposit Forgery Attacks), <MISPEvent(info=Dirty harry example), <MISPEvent(info=Kobalos - Linux threat to high performance computing infrastructure), <MISPEvent(info=Decaying example), <MISPEvent(info=Investigation Syrian Electronic Army Activities - Domain(s) Take over via Melbourne IT registrar), <MISPEvent(info=Spear-phishing attempt targeting telco sector), <MISPEvent(info=Test)]\n"
     ]
    }
   ],
   "source": [
    "r = misp.search_index(published=True, pythonify=True)\n",
    "print(r)\n",
    "# print(r[0].to_dict())"
   ]
  },
  {
   "cell_type": "markdown",
   "metadata": {},
   "source": [
    "#### Playing with time"
   ]
  },
  {
   "cell_type": "markdown",
   "metadata": {},
   "source": [
    "**Multiple type of timestamps for Events**\n",
    "- `timestamp`: Timestamp of the **last modification** of the Event or its content (include Attributes, Objects, Tags, ...)\n",
    "- `published_timestamp`: Timestamp of the **last publication** of the Event\n",
    "- To generate report, you usually want to use `publish_timestamp`\n",
    "\n",
    "**Multiple type of dates for Events**\n",
    "- `date_from`: Only events having a more recent date will be returned\n",
    "- `date_to`: Only events having an older date will be returned\n",
    "- Both can be used at once to specify a time window\n"
   ]
  },
  {
   "cell_type": "code",
   "execution_count": 6,
   "metadata": {},
   "outputs": [
    {
     "name": "stdout",
     "output_type": "stream",
     "text": [
      "[<MISPEvent(info=Event created via the API as an example),\n",
      " <MISPEvent(info=ddos in italy),\n",
      " <MISPEvent(info=Test),\n",
      " <MISPEvent(info=Test G1),\n",
      " <MISPEvent(info=ATM Vulnerabilities Allow Deposit Forgery Attacks),\n",
      " <MISPEvent(info=Dirty harry example),\n",
      " <MISPEvent(info=Kobalos - Linux threat to high performance computing infrastructure),\n",
      " <MISPEvent(info=Decaying example),\n",
      " <MISPEvent(info=Investigation Syrian Electronic Army Activities - Domain(s) Take over via Melbourne IT registrar),\n",
      " <MISPEvent(info=Spear-phishing attempt targeting telco sector),\n",
      " <MISPEvent(info=Test)]\n"
     ]
    }
   ],
   "source": [
    "# Using string literal\n",
    "sinceLastMonth = '30d'\n",
    "# Using Python's datetime\n",
    "sinceLastMonth = datetime.date.today() - datetime.timedelta(days=30)\n",
    "\n",
    "r = misp.search_index(published=True, publish_timestamp=sinceLastMonth, pythonify=True)\n",
    "pprint(r)"
   ]
  },
  {
   "cell_type": "markdown",
   "metadata": {},
   "source": [
    "#### Data returned\n",
    "- Searching the index will only returns high-level information about the Event and its attached context\n",
    "\n",
    "- Can be useful for:\n",
    "    - Statistics about number of created Event\n",
    "    - Statistics about Organisation creating Event over time\n",
    "    - Statistics about distribution level usage\n",
    "- And, **If Event correctly contextualized**\n",
    "    - Statistics about **type of incident**\n",
    "    - Adversary tactics and techniques with **MITRE ATT&CK** usage\n",
    "    - Malware familly"
   ]
  },
  {
   "cell_type": "code",
   "execution_count": 7,
   "metadata": {},
   "outputs": [
    {
     "name": "stdout",
     "output_type": "stream",
     "text": [
      "# Event properties\n",
      "['uuid', 'info', 'distribution', 'threat_level_id', 'analysis', 'published', 'date', 'id', 'orgc_id', 'org_id', 'timestamp', 'publish_timestamp', 'sighting_timestamp', 'sharing_group_id', 'Org', 'Orgc', 'attribute_count', 'proposal_email_lock', 'locked', 'disable_correlation', 'extends_uuid', 'GalaxyCluster', 'EventTag']\n",
      "\n",
      " # Event Tags (6)\n",
      "{'Tag': {'colour': '#004646',\n",
      "         'id': '51',\n",
      "         'is_galaxy': False,\n",
      "         'name': 'type:OSINT'},\n",
      " 'event_id': '43',\n",
      " 'id': '68',\n",
      " 'local': False,\n",
      " 'relationship_type': '',\n",
      " 'tag_id': '51'}\n",
      "\n",
      " # Event Clusters (3)\n"
     ]
    }
   ],
   "source": [
    "event = r[4].to_dict()\n",
    "event_properties = event.keys()\n",
    "print('# Event properties')\n",
    "print(list(event_properties))\n",
    "\n",
    "print('\\n # Event Tags ({0})'.format(len(event['EventTag'])))\n",
    "pprint(event['EventTag'][0])\n",
    "\n",
    "print('\\n # Event Clusters ({0})'.format(len(event['GalaxyCluster'])))"
   ]
  },
  {
   "cell_type": "markdown",
   "metadata": {},
   "source": [
    "#### Useful parameters\n",
    "\n",
    "- `attribute` (Optional[str]) *Filter events on attribute's value*\n",
    "- `published` (Optional[bool])\n",
    "- `hasproposal` (Optional[bool])\n",
    "- `eventid` (Optional[str, int])\n",
    "- `tags` (Optional[str, List[str]])\n",
    "- `date_from` (Optional[datetime, date, int, str, float, None])\n",
    "- `date_to` (Optional[datetime, date, int, str, float, None])\n",
    "- `eventinfo` (Optional[str])\n",
    "- `threatlevel` (Optional[str, int])\n",
    "- `analysis` (Optional[str, int])\n",
    "- `distribution` (Optional[str, int])\n",
    "- `sharinggroup` (Optional[str, int])\n",
    "- `org` (Optional[str, List[[str, int]])\n",
    "- `timestamp` (Optional[datetime, date, int, str, float, None, List[[datetime, date, int, str, float, None], [datetime, date, int, str, float, None]]])\n",
    "    - timestamp=(datetime.today() - timedelta(days=1))\n",
    "    - timestamp=['14d', '7d']\n",
    "    - timestamp=int(datetime.today().timestamp())\n",
    "- `publish_timestamp` (Optional[datetime, date, int, str, float, None, List[[datetime, date, int, str, float, None], [datetime, date, int, str, float, None]]])"
   ]
  },
  {
   "cell_type": "markdown",
   "metadata": {},
   "source": [
    "## Retrieving data with RestSearch\n",
    "\n",
    "The `RestSearch` endpoint can be used on multiple scopes. It has more filtering parameters and is generally flexible.\n",
    "\n",
    "Supported scopes (also called Controllers): `events`, `attributes`, `objects`\n",
    "\n",
    "### `/events/restSearch` VS `/attributes/restSearch`\n",
    "\n",
    "- Both endpoints support most of the parameter\n",
    "- They differs in the data returned\n",
    "    - `/events/restSearch` returns the whole Event with its child elements (Attributes, Objects, Proposals, ..)\n",
    "    - `/attributes/restSearch` returns all attributes"
   ]
  },
  {
   "cell_type": "markdown",
   "metadata": {},
   "source": [
    "#### Getting only metadata: Do not include child elements (such as Attributes, ...)"
   ]
  },
  {
   "cell_type": "code",
   "execution_count": 8,
   "metadata": {},
   "outputs": [
    {
     "name": "stdout",
     "output_type": "stream",
     "text": [
      "[<MISPEvent(info=Successful scam call),\n",
      " <MISPEvent(info=Successful Scammer Call),\n",
      " <MISPEvent(info=Event created via the API as an example),\n",
      " <MISPEvent(info=Event created via the API as an example),\n",
      " <MISPEvent(info=Test Scam Call),\n",
      " <MISPEvent(info=Successful scam call),\n",
      " <MISPEvent(info=Ataque DDoS Paginas WEB7),\n",
      " <MISPEvent(info=Handsome_Ransomware_1_2024_Lyon_69009),\n",
      " <MISPEvent(info=local event),\n",
      " <MISPEvent(info=Test distribution & sync),\n",
      " <MISPEvent(info=ddos in italy),\n",
      " <MISPEvent(info=Test),\n",
      " <MISPEvent(info=Test G1),\n",
      " <MISPEvent(info=ATM Vulnerabilities Allow Deposit Forgery Attacks),\n",
      " <MISPEvent(info=Dirty harry example),\n",
      " <MISPEvent(info=Kobalos - Linux threat to high performance computing infrastructure),\n",
      " <MISPEvent(info=Decaying example),\n",
      " <MISPEvent(info=Investigation Syrian Electronic Army Activities - Domain(s) Take over via Melbourne IT registrar),\n",
      " <MISPEvent(info=Spear-phishing attempt targeting telco sector),\n",
      " <MISPEvent(info=Targeted phishing - PDF documents / phishkit),\n",
      " <MISPEvent(info=Test),\n",
      " <MISPEvent(info=VNC RFB feed),\n",
      " <MISPEvent(info=Test),\n",
      " <MISPEvent(info=GRU Close Operation OCPW (EN) (Elouan)),\n",
      " <MISPEvent(info=GRU Close Operation OCPW (NL)),\n",
      " <MISPEvent(info=GRU close access cyber operation against OPCW),\n",
      " <MISPEvent(info=GRU close access cyber operation against OPCW),\n",
      " <MISPEvent(info=Report netherland DISS Russia chemical weapon),\n",
      " <MISPEvent(info=GRU close access cyber operation against OPCW (User05)),\n",
      " <MISPEvent(info=Event created via the API as an example)]\n"
     ]
    }
   ],
   "source": [
    "r = misp.search(controller='events', metadata=True, pythonify=True)\n",
    "pprint(r)"
   ]
  },
  {
   "cell_type": "markdown",
   "metadata": {},
   "source": [
    "### Searching Attributes with RestSearch"
   ]
  },
  {
   "cell_type": "markdown",
   "metadata": {},
   "source": [
    "#### Searching for values"
   ]
  },
  {
   "cell_type": "code",
   "execution_count": 9,
   "metadata": {},
   "outputs": [
    {
     "name": "stdout",
     "output_type": "stream",
     "text": [
      "Simple value: [<MISPAttribute(type=ip-src, value=8.8.8.8), <MISPAttribute(type=ip-dst, value=8.8.8.8), <MISPAttribute(type=ip-dst, value=8.8.8.8), <MISPAttribute(type=ip-src, value=8.8.8.8), <MISPAttribute(type=ip-src, value=8.8.8.8), <MISPAttribute(type=ip-dst, value=8.8.8.8)]\n",
      "List of values: [<MISPAttribute(type=ip-src, value=8.8.8.8), <MISPAttribute(type=ip-dst, value=8.8.8.8), <MISPAttribute(type=ip-dst, value=8.8.8.8), <MISPAttribute(type=ip-src, value=8.8.8.8), <MISPAttribute(type=ip-src, value=8.8.8.8), <MISPAttribute(type=ip-dst, value=8.8.8.8)]\n",
      "Wildcard: [<MISPAttribute(type=ip-src, value=9.9.9.9)]\n"
     ]
    }
   ],
   "source": [
    "r1 = misp.search(controller='attributes', value='8.8.8.8', pythonify=True)\n",
    "print('Simple value:', r1)\n",
    "\n",
    "r2 = misp.search(controller='attributes', value=['8.8.8.8', '5.4.2.1'], pythonify=True)\n",
    "print('List of values:', r2)\n",
    "\n",
    "r3 = misp.search(controller='attributes', value=['9.9.%.%'], pythonify=True)\n",
    "print('Wildcard:', r3)"
   ]
  },
  {
   "cell_type": "markdown",
   "metadata": {},
   "source": [
    "#### Searching for types"
   ]
  },
  {
   "cell_type": "code",
   "execution_count": 10,
   "metadata": {},
   "outputs": [
    {
     "name": "stdout",
     "output_type": "stream",
     "text": [
      "[<MISPAttribute(type=first-name, value=Harry),\n",
      " <MISPAttribute(type=first-name, value=Jennifer),\n",
      " <MISPAttribute(type=first-name, value=Samantha),\n",
      " <MISPAttribute(type=first-name, value=John),\n",
      " <MISPAttribute(type=first-name, value=John),\n",
      " <MISPAttribute(type=first-name, value=russe 1)]\n",
      "[<MISPAttribute(type=attachment, value=DirtyHarry.jpg),\n",
      " <MISPAttribute(type=attachment, value=sunny.png),\n",
      " <MISPAttribute(type=attachment, value=jennifer-spencer.png),\n",
      " <MISPAttribute(type=attachment, value=samantha.png),\n",
      " <MISPAttribute(type=attachment, value=DirtyHarry-Car.jpg),\n",
      " <MISPAttribute(type=attachment, value=Figure-2.-Overview-of-Kobalos-features-and-ways-to-access-them.png),\n",
      " <MISPAttribute(type=attachment, value=Figure-4.-Sequence-diagram-summarizing-Kobalos-network-protocols.png),\n",
      " <MISPAttribute(type=attachment, value=syrian-conflict-spills-into-cyberspace-2013.pdf),\n",
      " <MISPAttribute(type=attachment, value=sea-1.png),\n",
      " <MISPAttribute(type=attachment, value=sea-2.png),\n",
      " <MISPAttribute(type=attachment, value=Twitter DNS.jpeg),\n",
      " <MISPAttribute(type=attachment, value=Twitter AE.jpeg),\n",
      " <MISPAttribute(type=attachment, value=ppt+pressconference+ENGLISH+DEF.pdf),\n",
      " <MISPAttribute(type=attachment, value=Screenshot from 2025-01-11 11-45-48.png),\n",
      " <MISPAttribute(type=attachment, value=Screenshot from 2025-01-11 11-48-47.png),\n",
      " <MISPAttribute(type=attachment, value=Capture d'écran 2025-01-11 115159.png),\n",
      " <MISPAttribute(type=malware-sample, value=bin(1).exe|0cdc9b1b45064e6315f83b150c0fc0eb),\n",
      " <MISPAttribute(type=malware-sample, value=bin.exe|0cdc9b1b45064e6315f83b150c0fc0eb),\n",
      " <MISPAttribute(type=malware-sample, value=nothing suspicious.exe|3fd4fc68e79c74f052729546acd08979),\n",
      " <MISPAttribute(type=malware-sample, value=cryptolocker.exe|0cdc9b1b45064e6315f83b150c0fc0eb),\n",
      " <MISPAttribute(type=malware-sample, value=this-is-not-malicious(2).exe|734b3fcc06d0a0eda6b83de9165636ac),\n",
      " <MISPAttribute(type=malware-sample, value=malicious(2).exe|f1a3e62de12faecee82bf4599cc1fdcd),\n",
      " <MISPAttribute(type=malware-sample, value=28f73ae365bde8c03d0f93ef73f71c086a026ac58f72b82bb2384c3a5ab42d02|9a58b7f8ba04c32c027126379456e444),\n",
      " <MISPAttribute(type=malware-sample, value=56a73192c75130550294b327b36c051841d3780bd3732b410e0c190db6f9d936|164db8d1fe5f2ea9dd3ea826b2f0b808),\n",
      " <MISPAttribute(type=malware-sample, value=ddcf49145d8c78198138a488b7f99bb4f760777be41b293138e4d5b531cebc73|08b49fb9882bfc8f69beb594fa543c8a),\n",
      " <MISPAttribute(type=malware-sample, value=0fb825db2262d98e29846fa67171e3450666af9c0a6c31eaf8d7c84539be9132|1baa024f9cfab48b92c297aa406c91b5),\n",
      " <MISPAttribute(type=malware-sample, value=c052025b442995f04a68b1b6b2007c36dbf47448c08dc249219a7f3eebd369c2|da877f4f7335264b03ac72fca5b305dc),\n",
      " <MISPAttribute(type=malware-sample, value=f2676b94952018c220ee352b9857bc5ad62195b2d15cdfaf54fa5c5985d6934a|b830fd2997e1f124f34d77ff1fa9b89e),\n",
      " <MISPAttribute(type=malware-sample, value=New-Updated-docs.zip|b7245bf657e792328aaacbc6f75d1555)]\n"
     ]
    }
   ],
   "source": [
    "r1 = misp.search(controller='attributes', type_attribute='first-name', pythonify=True)\n",
    "pprint(r1)\n",
    "\n",
    "r2 = misp.search(controller='attributes', type_attribute=['malware-sample', 'attachment'], pythonify=True)\n",
    "pprint(r2)"
   ]
  },
  {
   "cell_type": "markdown",
   "metadata": {},
   "source": [
    "#### Searching for tags\n",
    "\n",
    "`includeEventTags` is an optional field on Attributes to also include the tags at event level. "
   ]
  },
  {
   "cell_type": "code",
   "execution_count": 11,
   "metadata": {},
   "outputs": [
    {
     "name": "stdout",
     "output_type": "stream",
     "text": [
      "[<MISPAttribute(type=ip-dst, value=127.1.1.1), <MISPAttribute(type=ip-dst, value=8.8.8.9), <MISPAttribute(type=text, value=post), <MISPAttribute(type=email-dst, value=jatboss6@gmail.com), <MISPAttribute(type=first-name, value=russe 1), <MISPAttribute(type=ip-src, value=9.9.9.9)]\n",
      "\tFirst Attribute Tag [<MISPTag(name=tlp:red)>, <MISPTag(name=tlp:green)>]\n",
      "[<MISPAttribute(type=ip-dst, value=127.1.1.1), <MISPAttribute(type=ip-dst, value=8.8.8.9), <MISPAttribute(type=text, value=post), <MISPAttribute(type=email-dst, value=jatboss6@gmail.com), <MISPAttribute(type=first-name, value=russe 1), <MISPAttribute(type=ip-src, value=9.9.9.9)]\n",
      "\tFirst Attribute Tag []\n"
     ]
    }
   ],
   "source": [
    "r1 = misp.search(controller='attributes', tags='tlp:red', includeEventTags=True, pythonify=True)\n",
    "print(r1)\n",
    "print('\\tFirst Attribute Tag', r1[1].Tag)\n",
    "r2 = misp.search(controller='attributes', tags=['tlp:red'], pythonify=True)\n",
    "print(r2)\n",
    "print('\\tFirst Attribute Tag', r2[1].Tag)"
   ]
  },
  {
   "cell_type": "markdown",
   "metadata": {},
   "source": [
    "**Complex query**"
   ]
  },
  {
   "cell_type": "code",
   "execution_count": 13,
   "metadata": {},
   "outputs": [
    {
     "name": "stdout",
     "output_type": "stream",
     "text": [
      "Or: 56\n",
      "[['tlp:amber'], ['tlp:amber'], ['tlp:amber'], ['tlp:amber'], ['tlp:amber']]\n",
      "\n",
      "And: 0\n",
      "[]\n"
     ]
    }
   ],
   "source": [
    "complex_query = misp.build_complex_query(or_parameters=['tlp:amber', 'adversary:infrastructure-type=\"c2\"'])\n",
    "r7 = misp.search(\n",
    "    controller='attributes',\n",
    "    tags=complex_query,\n",
    "    includeEventTags=True,\n",
    "    pythonify=True)\n",
    "print('Or:', len(r7))\n",
    "pprint([\n",
    "    [tag.name for tag in attr.Tag if (tag.name == 'tlp:amber' or tag.name == 'adversary:infrastructure-type=\"c2\"')] for attr in r7[:5]\n",
    "])\n",
    "print()\n",
    "\n",
    "complex_query = misp.build_complex_query(and_parameters=['tlp:amber', 'adversary:infrastructure-type=\"c2\"'])\n",
    "r8 = misp.search(\n",
    "    controller='attributes',\n",
    "    tags=complex_query,\n",
    "    includeEventTags=True,\n",
    "    pythonify=True)\n",
    "print('And:', len(r8))\n",
    "pprint([\n",
    "    [tag.name for tag in attr.Tag if (tag.name == 'tlp:amber' or tag.name == 'adversary:infrastructure-type=\"c2\"')] for attr in r8\n",
    "])"
   ]
  },
  {
   "cell_type": "markdown",
   "metadata": {},
   "source": [
    "#### Searching on GalaxyCluster metadata"
   ]
  },
  {
   "cell_type": "code",
   "execution_count": 14,
   "metadata": {},
   "outputs": [
    {
     "name": "stdout",
     "output_type": "stream",
     "text": [
      "Events:  30\n",
      "event 28 has 5 tag(s)\n",
      "event 29 has 6 tag(s)\n",
      "event 30 has 0 tag(s)\n",
      "event 31 has 2 tag(s)\n",
      "event 32 has 21 tag(s)\n",
      "event 33 has 5 tag(s)\n",
      "event 34 has 0 tag(s)\n",
      "event 37 has 3 tag(s)\n",
      "event 38 has 0 tag(s)\n",
      "event 39 has 0 tag(s)\n",
      "event 40 has 5 tag(s)\n",
      "event 41 has 0 tag(s)\n",
      "event 42 has 0 tag(s)\n",
      "event 43 has 6 tag(s)\n",
      "event 44 has 0 tag(s)\n",
      "event 45 has 23 tag(s)\n",
      "event 46 has 2 tag(s)\n",
      "event 47 has 4 tag(s)\n",
      "event 48 has 11 tag(s)\n",
      "event 49 has 9 tag(s)\n",
      "event 50 has 0 tag(s)\n",
      "event 51 has 1 tag(s)\n",
      "event 52 has 2 tag(s)\n",
      "event 53 has 0 tag(s)\n",
      "event 54 has 3 tag(s)\n",
      "event 55 has 2 tag(s)\n",
      "event 56 has 3 tag(s)\n",
      "event 57 has 4 tag(s)\n",
      "event 58 has 1 tag(s)\n",
      "event 59 has 1 tag(s)\n"
     ]
    }
   ],
   "source": [
    "body = {\n",
    "    'galaxy.member-of': 'NATO',\n",
    "    'galaxy.official-languages': 'French',\n",
    "}\n",
    "\n",
    "events = misp.direct_call('/events/restSearch', body)\n",
    "print('Events: ', len(events))\n",
    "for event in events:\n",
    "    print('event', event['Event']['id'], 'has', len(event['Event'].get('Tag', [])), 'tag(s)')"
   ]
  },
  {
   "cell_type": "markdown",
   "metadata": {},
   "source": [
    "- **Note 1**: The `galaxy.*` instructions are not supported by PyMISP\n",
    "- **Note 2**: Each `galaxy.*` instructions are **AND**ed and are applied for the same cluster\n",
    "    - Cannot combine from different clusters\n",
    "    - Combining `Galaxy.official-languages` and `Galaxy.synonyms` would likely gives no result"
   ]
  },
  {
   "cell_type": "markdown",
   "metadata": {},
   "source": [
    "#### Searching on creator Organisation metadata"
   ]
  },
  {
   "cell_type": "code",
   "execution_count": 15,
   "metadata": {},
   "outputs": [
    {
     "name": "stdout",
     "output_type": "stream",
     "text": [
      "Organisation nationality: {'CIRCL': '', 'ORG_1': '', 'ORG_2': '', 'ORG_3': '', 'ORG_4': '', 'ORG_5': '', 'ORG_6': '', 'ORG_Demo': '', 'ORG_Main': '', 'ORGNAME': ''}\n",
      "Events:  30\n",
      "Org for each Event: ['ORGNAME_7544', 'ORG_Main', 'ORGNAME_7544', 'ORG_6', 'ORG_Main', 'ORG_Main', 'ORG_Main', 'ORG_Main', 'ADMIN', 'ORGNAME_7544', 'ORG_Main', 'ADMIN_6098', 'ADMIN_6098', 'CIRCL', 'CIRCL', 'ORGNAME_7157', 'Training', 'CIRCL', 'Training', 'EUROLEA', 'CIRCL', 'CIRCL', 'CIRCL', 'ORG_6', 'CIRCL', 'ORG_6', 'ORG_6', 'ORG_6', 'ORG_6', 'CIRCL']\n"
     ]
    }
   ],
   "source": [
    "all_orgs = misp.organisations()\n",
    "print('Organisation nationality:', {org['Organisation']['name']: org['Organisation']['nationality'] for org in all_orgs})\n",
    "\n",
    "body = {\n",
    "    'org.name': 'CIRCL'\n",
    "}\n",
    "\n",
    "events = misp.direct_call('/events/restSearch', body)\n",
    "print('Events: ', len(events))\n",
    "print('Org for each Event:', [event['Event']['Orgc']['name'] for event in events])"
   ]
  },
  {
   "cell_type": "markdown",
   "metadata": {},
   "source": [
    "- **Note 1**: The `org.*` instructions are not supported by PyMISP"
   ]
  },
  {
   "cell_type": "markdown",
   "metadata": {},
   "source": [
    "#### ReturnFormat"
   ]
  },
  {
   "cell_type": "markdown",
   "metadata": {},
   "source": [
    "**CSV**"
   ]
  },
  {
   "cell_type": "code",
   "execution_count": 16,
   "metadata": {},
   "outputs": [
    {
     "name": "stdout",
     "output_type": "stream",
     "text": [
      "uuid,event_id,category,type,value,comment,to_ids,date,object_relation,attribute_tag,object_uuid,object_name,object_meta_category\n",
      "\"0bf65f60-d43f-4fde-8601-2fb45616e153\",31,\"Network activity\",\"ip-dst\",\"127.1.1.1\",\"Comment added via the API\",0,1728029326,\"\",\"\",\"\",\"\",\"\"\n",
      "\"b3eedfc4-8ffa-41a2-875b-6c3d0e4602b8\",31,\"Network activity\",\"ip-dst\",\"8.8.8.9\",\"\",1,1728029303,\"\",\"\",\"\",\"\",\"\"\n",
      "\"b68a0708-f851-4997-90a1-80847d1a4b8e\",32,\"Network activity\",\"ip-dst\",\"8.8.8.8\",\"\",0,1728394456,\"\",\"\",\"\",\"\",\"\"\n",
      "\"f52c63ce-fad1-47d3-b368-a461bf1fcee6\",32,\"Network activity\",\"ip-dst\",\"194.78.89.250\",\"\",1,1727861958,\"ip\",\"\",\"\",\"\",\"\"\n",
      "\"72bb7d16-61b3-4089-8a23-dd6d9d972f62\",30,\"Network activity\",\"ip-dst\",\"3.3.3.3\",\"\",0,1728285118,\"\",\"\",\"\",\"\",\"\"\n",
      "\"1fc09433-0a46-4f29-87fc-ad7c46956d14\",34,\"Network activity\",\"ip-dst\",\"8.8.8.8\",\"\",1,1730210550,\"\",\"\",\"\",\"\",\"\"\n",
      "\"d2c99598-5caa-4e70-81d8-a0d6e3074ef2\",40,\"Network activity\",\"ip-dst\",\"81.126.77.60\",\"\",1,1734337516,\"ip\",\"\",\"\",\"\",\"\"\n",
      "\"c8043d80-79f7-4a49-a3a8-138b5ad58bc9\",41,\"Network activity\",\"ip-dst\",\"2.2.2.2\",\"\",0,1736332387,\"\",\"\",\"\",\"\",\"\"\n",
      "\"dc022d94-e744-4d5d-933e-049efb1711b8\",41,\"Network activity\",\"ip-dst\",\"3.3.3.3\",\"\",0,1736332552,\"\",\"\",\"\",\"\",\"\"\n",
      "\"64ecccd7-710f-47b5-92ca-29f50857f8e9\",41,\"Network activity\",\"ip-dst\",\"4.4.4.4\",\"\",0,1736333180,\"\",\"\",\"\",\"\",\"\"\n",
      "\n",
      "\n"
     ]
    }
   ],
   "source": [
    "r1 = misp.search(\n",
    "    controller='attributes',\n",
    "    type_attribute=['ip-src', 'ip-dst'],\n",
    "    limit=10, page=1,\n",
    "    return_format='csv')\n",
    "print(r1)"
   ]
  },
  {
   "cell_type": "markdown",
   "metadata": {},
   "source": [
    "**Aggregated context** with `context-markdown`, `context` and `attack`"
   ]
  },
  {
   "cell_type": "code",
   "execution_count": 17,
   "metadata": {},
   "outputs": [
    {
     "name": "stdout",
     "output_type": "stream",
     "text": [
      "# Aggregated context data\n",
      "## Tags and Taxonomies\n",
      "\n",
      "## Galaxy Clusters\n",
      "\n"
     ]
    }
   ],
   "source": [
    "# Get the context of Events that were created by organisations from the financial sector\n",
    "\n",
    "body = {\n",
    "    'returnFormat': 'context-markdown',\n",
    "    'org.sector': ['financial'],\n",
    "}\n",
    "\n",
    "r2 = misp.direct_call('/events/restSearch', body)\n",
    "print(r2)"
   ]
  },
  {
   "cell_type": "markdown",
   "metadata": {},
   "source": [
    "#### Be carefull with the amount of data you ask, use `pagination` if needed\n",
    "\n",
    "- `limit`: Specify the amount of data to be returned\n",
    "- `page`: Specify the start of the rolling window. Is **not** zero-indexed\n",
    "\n",
    "If the size of the returned data is larger than the memory enveloppe you might get a different behavior based on your MISP setting:\n",
    "- Nothing returned. Allowed memeory by PHP process exausted\n",
    "- Data returned but slow. MISP will concatenante the returned data in a temporary file on disk\n",
    "    - This behavior is only applicable for `/*/restSearch` endpoints"
   ]
  },
  {
   "cell_type": "code",
   "execution_count": 18,
   "metadata": {},
   "outputs": [
    {
     "name": "stdout",
     "output_type": "stream",
     "text": [
      "Amount of Attributes 3855\n",
      "Amount of paginated Attributes 5\n"
     ]
    }
   ],
   "source": [
    "r1 = misp.search(controller='attributes', pythonify=True)\n",
    "print('Amount of Attributes', len(r1))\n",
    "\n",
    "r2 = misp.search(\n",
    "    controller='attributes',\n",
    "    page=1,\n",
    "    limit=5,\n",
    "    pythonify=True)\n",
    "print('Amount of paginated Attributes', len(r2))"
   ]
  },
  {
   "cell_type": "markdown",
   "metadata": {},
   "source": [
    "## Searching for Sightings"
   ]
  },
  {
   "cell_type": "code",
   "execution_count": 19,
   "metadata": {},
   "outputs": [
    {
     "name": "stdout",
     "output_type": "stream",
     "text": [
      "[{'Sighting': {'Organisation': {'id': '8',\n",
      "                                'name': 'ORG_6',\n",
      "                                'uuid': '591c3fb6-4abe-4d47-b2ea-22e2299819e9'},\n",
      "               'attribute_id': '199852',\n",
      "               'date_sighting': '1736587574',\n",
      "               'event_id': '49',\n",
      "               'id': '16',\n",
      "               'org_id': '8',\n",
      "               'source': '',\n",
      "               'type': '0',\n",
      "               'uuid': 'c842d893-b08c-4dd2-bbb1-6a617cad19ad',\n",
      "               'value': 'jatboss6@gmail.com'}},\n",
      " {'Sighting': {'Organisation': {'id': '8',\n",
      "                                'name': 'ORG_6',\n",
      "                                'uuid': '591c3fb6-4abe-4d47-b2ea-22e2299819e9'},\n",
      "               'attribute_id': '199852',\n",
      "               'date_sighting': '1736587770',\n",
      "               'event_id': '49',\n",
      "               'id': '17',\n",
      "               'org_id': '8',\n",
      "               'source': '',\n",
      "               'type': '0',\n",
      "               'uuid': '1793567b-111b-4e4b-bb5a-209442579b43',\n",
      "               'value': 'jatboss6@gmail.com'}},\n",
      " {'Sighting': {'Organisation': {'id': '13',\n",
      "                                'name': 'CIRCL',\n",
      "                                'uuid': '55f6ea5e-2c60-40e5-964f-47a8950d210f'},\n",
      "               'attribute_id': '199852',\n",
      "               'date_sighting': '1736587776',\n",
      "               'event_id': '49',\n",
      "               'id': '18',\n",
      "               'org_id': '13',\n",
      "               'source': '',\n",
      "               'type': '0',\n",
      "               'uuid': 'a1e4d774-6291-43b5-87b3-f7a263b033bc',\n",
      "               'value': 'jatboss6@gmail.com'}},\n",
      " {'Sighting': {'Organisation': {'id': '8',\n",
      "                                'name': 'ORG_6',\n",
      "                                'uuid': '591c3fb6-4abe-4d47-b2ea-22e2299819e9'},\n",
      "               'attribute_id': '199852',\n",
      "               'date_sighting': '1736587780',\n",
      "               'event_id': '49',\n",
      "               'id': '19',\n",
      "               'org_id': '8',\n",
      "               'source': '',\n",
      "               'type': '0',\n",
      "               'uuid': '5dfe4cf0-e1a0-4b95-b1c5-652b373dda1f',\n",
      "               'value': 'jatboss6@gmail.com'}},\n",
      " {'Sighting': {'Organisation': {'id': '8',\n",
      "                                'name': 'ORG_6',\n",
      "                                'uuid': '591c3fb6-4abe-4d47-b2ea-22e2299819e9'},\n",
      "               'attribute_id': '199852',\n",
      "               'date_sighting': '1736587781',\n",
      "               'event_id': '49',\n",
      "               'id': '20',\n",
      "               'org_id': '8',\n",
      "               'source': '',\n",
      "               'type': '1',\n",
      "               'uuid': '84fa0421-3d37-4c24-a6cc-58f3175cddd3',\n",
      "               'value': 'jatboss6@gmail.com'}}]\n"
     ]
    }
   ],
   "source": [
    "body = {\n",
    "    'last': '7d'\n",
    "}\n",
    "\n",
    "sightings = misp.direct_call('/sightings/restSearch', body)\n",
    "pprint(sightings)"
   ]
  },
  {
   "cell_type": "markdown",
   "metadata": {},
   "source": [
    "## Plotting data"
   ]
  },
  {
   "cell_type": "markdown",
   "metadata": {},
   "source": [
    "#### Sightings over time"
   ]
  },
  {
   "cell_type": "code",
   "execution_count": 20,
   "metadata": {},
   "outputs": [],
   "source": [
    "import pandas as pd\n",
    "import matplotlib.pyplot as plt"
   ]
  },
  {
   "cell_type": "code",
   "execution_count": 21,
   "metadata": {},
   "outputs": [
    {
     "name": "stderr",
     "output_type": "stream",
     "text": [
      "/var/folders/rs/1d27yk155l9bjh_91m6655tr0000gn/T/ipykernel_57586/2015836940.py:4: FutureWarning: The behavior of 'to_datetime' with 'unit' when parsing strings is deprecated. In a future version, strings will be parsed as datetime strings, matching the behavior without a 'unit'. To retain the old behavior, explicitly cast ints or floats to numeric type before calling to_datetime.\n",
      "  df[\"date_sighting\"] = pd.to_datetime(df[\"date_sighting\"], unit='s')\n"
     ]
    },
    {
     "data": {
      "text/html": [
       "<div>\n",
       "<style scoped>\n",
       "    .dataframe tbody tr th:only-of-type {\n",
       "        vertical-align: middle;\n",
       "    }\n",
       "\n",
       "    .dataframe tbody tr th {\n",
       "        vertical-align: top;\n",
       "    }\n",
       "\n",
       "    .dataframe thead th {\n",
       "        text-align: right;\n",
       "    }\n",
       "</style>\n",
       "<table border=\"1\" class=\"dataframe\">\n",
       "  <thead>\n",
       "    <tr style=\"text-align: right;\">\n",
       "      <th></th>\n",
       "      <th>id</th>\n",
       "      <th>attribute_id</th>\n",
       "      <th>event_id</th>\n",
       "      <th>org_id</th>\n",
       "      <th>date_sighting</th>\n",
       "      <th>uuid</th>\n",
       "      <th>source</th>\n",
       "      <th>type</th>\n",
       "      <th>value</th>\n",
       "      <th>Organisation</th>\n",
       "      <th>one</th>\n",
       "    </tr>\n",
       "  </thead>\n",
       "  <tbody>\n",
       "    <tr>\n",
       "      <th>0</th>\n",
       "      <td>16</td>\n",
       "      <td>199852</td>\n",
       "      <td>49</td>\n",
       "      <td>8</td>\n",
       "      <td>2025-01-11 09:26:14</td>\n",
       "      <td>c842d893-b08c-4dd2-bbb1-6a617cad19ad</td>\n",
       "      <td></td>\n",
       "      <td>0</td>\n",
       "      <td>jatboss6@gmail.com</td>\n",
       "      <td>{'id': '8', 'uuid': '591c3fb6-4abe-4d47-b2ea-2...</td>\n",
       "      <td>1</td>\n",
       "    </tr>\n",
       "    <tr>\n",
       "      <th>1</th>\n",
       "      <td>17</td>\n",
       "      <td>199852</td>\n",
       "      <td>49</td>\n",
       "      <td>8</td>\n",
       "      <td>2025-01-11 09:29:30</td>\n",
       "      <td>1793567b-111b-4e4b-bb5a-209442579b43</td>\n",
       "      <td></td>\n",
       "      <td>0</td>\n",
       "      <td>jatboss6@gmail.com</td>\n",
       "      <td>{'id': '8', 'uuid': '591c3fb6-4abe-4d47-b2ea-2...</td>\n",
       "      <td>1</td>\n",
       "    </tr>\n",
       "    <tr>\n",
       "      <th>2</th>\n",
       "      <td>18</td>\n",
       "      <td>199852</td>\n",
       "      <td>49</td>\n",
       "      <td>13</td>\n",
       "      <td>2025-01-11 09:29:36</td>\n",
       "      <td>a1e4d774-6291-43b5-87b3-f7a263b033bc</td>\n",
       "      <td></td>\n",
       "      <td>0</td>\n",
       "      <td>jatboss6@gmail.com</td>\n",
       "      <td>{'id': '13', 'uuid': '55f6ea5e-2c60-40e5-964f-...</td>\n",
       "      <td>1</td>\n",
       "    </tr>\n",
       "    <tr>\n",
       "      <th>3</th>\n",
       "      <td>19</td>\n",
       "      <td>199852</td>\n",
       "      <td>49</td>\n",
       "      <td>8</td>\n",
       "      <td>2025-01-11 09:29:40</td>\n",
       "      <td>5dfe4cf0-e1a0-4b95-b1c5-652b373dda1f</td>\n",
       "      <td></td>\n",
       "      <td>0</td>\n",
       "      <td>jatboss6@gmail.com</td>\n",
       "      <td>{'id': '8', 'uuid': '591c3fb6-4abe-4d47-b2ea-2...</td>\n",
       "      <td>1</td>\n",
       "    </tr>\n",
       "    <tr>\n",
       "      <th>4</th>\n",
       "      <td>20</td>\n",
       "      <td>199852</td>\n",
       "      <td>49</td>\n",
       "      <td>8</td>\n",
       "      <td>2025-01-11 09:29:41</td>\n",
       "      <td>84fa0421-3d37-4c24-a6cc-58f3175cddd3</td>\n",
       "      <td></td>\n",
       "      <td>1</td>\n",
       "      <td>jatboss6@gmail.com</td>\n",
       "      <td>{'id': '8', 'uuid': '591c3fb6-4abe-4d47-b2ea-2...</td>\n",
       "      <td>1</td>\n",
       "    </tr>\n",
       "  </tbody>\n",
       "</table>\n",
       "</div>"
      ],
      "text/plain": [
       "   id attribute_id event_id org_id       date_sighting  \\\n",
       "0  16       199852       49      8 2025-01-11 09:26:14   \n",
       "1  17       199852       49      8 2025-01-11 09:29:30   \n",
       "2  18       199852       49     13 2025-01-11 09:29:36   \n",
       "3  19       199852       49      8 2025-01-11 09:29:40   \n",
       "4  20       199852       49      8 2025-01-11 09:29:41   \n",
       "\n",
       "                                   uuid source type               value  \\\n",
       "0  c842d893-b08c-4dd2-bbb1-6a617cad19ad           0  jatboss6@gmail.com   \n",
       "1  1793567b-111b-4e4b-bb5a-209442579b43           0  jatboss6@gmail.com   \n",
       "2  a1e4d774-6291-43b5-87b3-f7a263b033bc           0  jatboss6@gmail.com   \n",
       "3  5dfe4cf0-e1a0-4b95-b1c5-652b373dda1f           0  jatboss6@gmail.com   \n",
       "4  84fa0421-3d37-4c24-a6cc-58f3175cddd3           1  jatboss6@gmail.com   \n",
       "\n",
       "                                        Organisation  one  \n",
       "0  {'id': '8', 'uuid': '591c3fb6-4abe-4d47-b2ea-2...    1  \n",
       "1  {'id': '8', 'uuid': '591c3fb6-4abe-4d47-b2ea-2...    1  \n",
       "2  {'id': '13', 'uuid': '55f6ea5e-2c60-40e5-964f-...    1  \n",
       "3  {'id': '8', 'uuid': '591c3fb6-4abe-4d47-b2ea-2...    1  \n",
       "4  {'id': '8', 'uuid': '591c3fb6-4abe-4d47-b2ea-2...    1  "
      ]
     },
     "execution_count": 21,
     "metadata": {},
     "output_type": "execute_result"
    }
   ],
   "source": [
    "# Converting our data to Panda DataFrame\n",
    "sighting_rearranged = [sighting['Sighting'] for sighting in sightings]\n",
    "df = pd.DataFrame.from_dict(sighting_rearranged)\n",
    "df[\"date_sighting\"] = pd.to_datetime(df[\"date_sighting\"], unit='s')\n",
    "df['one'] = 1\n",
    "df"
   ]
  },
  {
   "cell_type": "code",
   "execution_count": 22,
   "metadata": {},
   "outputs": [
    {
     "name": "stdout",
     "output_type": "stream",
     "text": [
      "Min and Max: 2025-01-11 09:26:14 2025-01-11 09:29:41\n",
      "Time delta: 0 days 00:03:27\n",
      "Unique Event IDs: ['49']\n"
     ]
    }
   ],
   "source": [
    "print('Min and Max:', df['date_sighting'].min(), df['date_sighting'].max())\n",
    "print('Time delta:', df['date_sighting'].max() - df['date_sighting'].min())\n",
    "print('Unique Event IDs:', df.event_id.unique())"
   ]
  },
  {
   "cell_type": "code",
   "execution_count": 23,
   "metadata": {},
   "outputs": [
    {
     "name": "stdout",
     "output_type": "stream",
     "text": [
      "attribute_id\n",
      "199852    5\n",
      "Name: count, dtype: int64\n"
     ]
    },
    {
     "data": {
      "text/plain": [
       "<Axes: xlabel='attribute_id'>"
      ]
     },
     "execution_count": 23,
     "metadata": {},
     "output_type": "execute_result"
    },
    {
     "data": {
      "image/png": "[encoded data removed]",
      "text/plain": [
       "<Figure size 640x480 with 1 Axes>"
      ]
     },
     "metadata": {},
     "output_type": "display_data"
    }
   ],
   "source": [
    "# Grouping by Attribute value\n",
    "value_count = df['attribute_id'].value_counts()\n",
    "print(value_count)\n",
    "value_count.plot(kind='bar', rot=45)"
   ]
  },
  {
   "cell_type": "code",
   "execution_count": 24,
   "metadata": {},
   "outputs": [
    {
     "name": "stdout",
     "output_type": "stream",
     "text": [
      "date_sighting\n",
      "5    5\n",
      "Name: count, dtype: int64\n"
     ]
    },
    {
     "data": {
      "text/plain": [
       "<Axes: xlabel='date_sighting'>"
      ]
     },
     "execution_count": 24,
     "metadata": {},
     "output_type": "execute_result"
    },
    {
     "data": {
      "image/png": "[encoded data removed]",
      "text/plain": [
       "<Figure size 640x480 with 1 Axes>"
      ]
     },
     "metadata": {},
     "output_type": "display_data"
    }
   ],
   "source": [
    "# Grouping by weekday (0-indexed)\n",
    "amount_per_weekday = df['date_sighting'].dt.weekday.value_counts()\n",
    "print(amount_per_weekday)\n",
    "amount_per_weekday.plot(kind='bar', rot=0)"
   ]
  },
  {
   "cell_type": "code",
   "execution_count": 25,
   "metadata": {},
   "outputs": [
    {
     "name": "stdout",
     "output_type": "stream",
     "text": [
      "date_sighting\n",
      "9    5\n",
      "Name: one, dtype: int64\n"
     ]
    },
    {
     "data": {
      "text/plain": [
       "<Axes: xlabel='date_sighting'>"
      ]
     },
     "execution_count": 25,
     "metadata": {},
     "output_type": "execute_result"
    },
    {
     "data": {
      "image/png": "[encoded data removed]",
      "text/plain": [
       "<Figure size 640x480 with 1 Axes>"
      ]
     },
     "metadata": {},
     "output_type": "display_data"
    }
   ],
   "source": [
    "amount_per_weekday_for_each_attribute = df.groupby([df['date_sighting'].dt.hour])['one'].sum()\n",
    "print(amount_per_weekday_for_each_attribute)\n",
    "amount_per_weekday_for_each_attribute.plot(kind='bar', rot=0)"
   ]
  },
  {
   "cell_type": "code",
   "execution_count": null,
   "metadata": {},
   "outputs": [],
   "source": []
  }
 ],
 "metadata": {
  "kernelspec": {
   "display_name": "Python 3 (ipykernel)",
   "language": "python",
   "name": "python3"
  },
  "language_info": {
   "codemirror_mode": {
    "name": "ipython",
    "version": 3
   },
   "file_extension": ".py",
   "mimetype": "text/x-python",
   "name": "python",
   "nbconvert_exporter": "python",
   "pygments_lexer": "ipython3",
   "version": "3.12.8"
  },
  "vscode": {
   "interpreter": {
    "hash": "99e19f785595e5572f3a0434505ffd496bc893a60c3b4501be593ee9ddcf6bde"
   }
  }
 },
 "nbformat": 4,
 "nbformat_minor": 4
}
