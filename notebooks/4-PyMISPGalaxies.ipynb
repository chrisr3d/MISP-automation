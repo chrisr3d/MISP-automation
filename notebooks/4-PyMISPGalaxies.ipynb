{
 "cells": [
  {
   "cell_type": "markdown",
   "id": "da2f6ad0",
   "metadata": {},
   "source": [
    "# Initializing your environment\n",
    "\n",
    "### Setting up a virtual environment\n",
    "(Optional but recommended)\n",
    "\n",
    "```bash\n",
    "virtualenv -p python3 venv\n",
    "source venv/bin/activate\n",
    "```\n",
    "(Use `deactivate` to exit from `source` once you are done)\n",
    "\n",
    "Alternatively you can also prefix all your `python` and `pip` commands with `./venv/bin/` (e.g: `./venv/bin/pip3 install -U pip`)\n",
    "\n",
    "## Setting up Jupyter\n",
    "\n",
    "In order to follow along on your computer:\n",
    "\n",
    "```bash\n",
    "pip3 install notebook\n",
    "jupyter-notebook\n",
    "```\n",
    "\n",
    "## Installation of PyMISPGalaxies\n",
    "\n",
    "#### Make sure the submodules are up-to-date and cloned\n",
    "\n",
    "```bash\n",
    "git submodule update --init --recursive PyMISPGalaxies/\n",
    "```\n",
    "\n",
    "#### Installation\n",
    "\n",
    "```bash\n",
    "cd PyMISPGalaxies\n",
    "pip3 install .\n",
    "```"
   ]
  },
  {
   "cell_type": "markdown",
   "id": "4494f43e",
   "metadata": {},
   "source": [
    "# Basics\n",
    "\n",
    "## Galaxies information"
   ]
  },
  {
   "cell_type": "code",
   "execution_count": null,
   "id": "a0094ebf",
   "metadata": {},
   "outputs": [],
   "source": [
    "from pymispgalaxies import Galaxies\n",
    "\n",
    "galaxies = Galaxies()\n",
    "print(list(galaxies.keys()))"
   ]
  },
  {
   "cell_type": "markdown",
   "id": "27367b6c",
   "metadata": {},
   "source": [
    "## Get information on a specific Galaxy"
   ]
  },
  {
   "cell_type": "code",
   "execution_count": null,
   "id": "458c20fe",
   "metadata": {},
   "outputs": [],
   "source": [
    "# Pick whichever you want\n",
    "galaxy_type = 'Stealer'"
   ]
  },
  {
   "cell_type": "markdown",
   "id": "b5ad9d05",
   "metadata": {},
   "source": [
    "### Standard information on the Galaxy"
   ]
  },
  {
   "cell_type": "code",
   "execution_count": null,
   "id": "a1338435",
   "metadata": {},
   "outputs": [],
   "source": [
    "galaxy = galaxies.get(galaxy_type)\n",
    "\n",
    "for feature in ('type', 'name', 'description', 'version'):\n",
    "    print(f'{feature}: {getattr(galaxy, feature)}')\n",
    "\n",
    "import json\n",
    "print(json.dumps(galaxy.galaxy, indent=4))"
   ]
  },
  {
   "cell_type": "markdown",
   "id": "3ff8153c",
   "metadata": {},
   "source": [
    "## Clusters information"
   ]
  },
  {
   "cell_type": "code",
   "execution_count": null,
   "id": "5c1977a9",
   "metadata": {},
   "outputs": [],
   "source": [
    "from pymispgalaxies import Clusters\n",
    "\n",
    "clusters = Clusters()\n",
    "print(list(clusters.keys()))"
   ]
  },
  {
   "cell_type": "markdown",
   "id": "3420434d",
   "metadata": {},
   "source": [
    "### Get the tag names associated with a cluster"
   ]
  },
  {
   "cell_type": "code",
   "execution_count": null,
   "id": "6060b3b4",
   "metadata": {},
   "outputs": [],
   "source": [
    "print(clusters.get(galaxy_type.lower()).machinetags)"
   ]
  },
  {
   "cell_type": "markdown",
   "id": "42b0e328",
   "metadata": {},
   "source": [
    "### Search for a specific name"
   ]
  },
  {
   "cell_type": "code",
   "execution_count": null,
   "id": "259d5ce5",
   "metadata": {},
   "outputs": [],
   "source": [
    "for cluster, values in clusters.search('apt33'):\n",
    "    print(f'{cluster.name}:')\n",
    "    for value in values:\n",
    "        print(f' - {value.value}: {value.description}')\n",
    "    print()"
   ]
  },
  {
   "cell_type": "markdown",
   "id": "f7767564",
   "metadata": {},
   "source": [
    "## Get information on a specific Cluster"
   ]
  },
  {
   "cell_type": "code",
   "execution_count": null,
   "id": "263b7302",
   "metadata": {},
   "outputs": [],
   "source": [
    "# Pick whichever you want\n",
    "cluster_name = 'DarkEye'"
   ]
  },
  {
   "cell_type": "markdown",
   "id": "d9b2c184",
   "metadata": {},
   "source": [
    "### Standard information on a Cluster value"
   ]
  },
  {
   "cell_type": "code",
   "execution_count": null,
   "id": "db5123be",
   "metadata": {},
   "outputs": [],
   "source": [
    "cluster_value = clusters.get(galaxy_type.lower()).get(cluster_name)\n",
    "\n",
    "for feature in ('value', 'description'):\n",
    "    print(f'{feature}: {getattr(cluster_value, feature)}')\n",
    "print(cluster_value.meta.to_dict())"
   ]
  },
  {
   "cell_type": "markdown",
   "id": "3f87399d",
   "metadata": {},
   "source": [
    "# Create \\& Update Galaxies \\& Clusters\n",
    "\n",
    "PyMISPGalaxies provides a pythonic way of getting information about the existing Galaxies \\& Clusters.  \n",
    "However, since Galaxies \\& Clusters are represented as immutable python dictionaries, we cannot modify them directly using the `Galaxies` \\& `Clusters` classes.\n",
    "\n",
    "We then need to add our changes to the JSON definition files.  \n",
    "We can nonetheless use the `Galaxy`, `Cluster`, `ClusterValue` \\& `ClusterValueMeta` classes, which help defining data that is valid.\n",
    "\n",
    "## Update an existing Cluster\n",
    "\n",
    "### Create the new Cluster values\n",
    "\n",
    "As an example, we want to update the `tea-matrix` cluster:"
   ]
  },
  {
   "cell_type": "code",
   "execution_count": null,
   "id": "cfeb3d66",
   "metadata": {},
   "outputs": [],
   "source": [
    "from pymispgalaxies.api import ClusterValue\n",
    "from uuid import uuid4\n",
    "\n",
    "brewing_cluster_value = ClusterValue(\n",
    "    {\n",
    "        'value': 'Brewing time 5-6 min',\n",
    "        'description': 'Brewing time 5-6 minutes',\n",
    "        'meta': {\n",
    "            'killchain': ['tea:black']\n",
    "        },\n",
    "        'uuid': uuid4().__str__()\n",
    "    }\n",
    ")\n",
    "\n",
    "temperature_cluster_value = ClusterValue(\n",
    "    {\n",
    "        'value': 'Water temp 100 degC',\n",
    "        'description': 'Water temperature 100 degC',\n",
    "        'meta': {\n",
    "            'killchain': ['tea:black']\n",
    "        },\n",
    "        'uuid': uuid4().__str__()\n",
    "    }\n",
    ")"
   ]
  },
  {
   "cell_type": "markdown",
   "id": "00b82bc7",
   "metadata": {},
   "source": [
    "### Update the Cluster with the new values"
   ]
  },
  {
   "cell_type": "code",
   "execution_count": null,
   "id": "3ee0a372",
   "metadata": {},
   "outputs": [],
   "source": [
    "cluster = clusters.get('tea-matrix')\n",
    "\n",
    "print(f'The Cluster values before:\\n{cluster.cluster_values}\\n')\n",
    "\n",
    "cluster.cluster_values[brewing_cluster_value.value] = brewing_cluster_value\n",
    "cluster.cluster_values[temperature_cluster_value.value] = temperature_cluster_value\n",
    "\n",
    "print(f'The updated Cluster values:\\n{cluster.cluster_values}')\n",
    "\n",
    "# we update the cluster version\n",
    "cluster.version += 1"
   ]
  },
  {
   "cell_type": "markdown",
   "id": "1fe188b3",
   "metadata": {},
   "source": [
    "### Bump the updated Cluster"
   ]
  },
  {
   "cell_type": "code",
   "execution_count": null,
   "id": "42f3ca1b",
   "metadata": {},
   "outputs": [],
   "source": [
    "import json\n",
    "from pathlib import Path\n",
    "\n",
    "# Optional step to store Cluster values by alphbetical order\n",
    "cluster.cluster_values = {feature: cluster.cluster_values[feature] for feature in sorted(cluster.cluster_values)}\n",
    "\n",
    "clusters_dir = Path(clusters.root_dir_clusters).resolve()\n",
    "content_to_write = json.loads(cluster.to_json())\n",
    "print(json.dumps(content_to_write, indent=4))\n",
    "\n",
    "with open(clusters_dir / f'{cluster.type}.json', 'w') as f:\n",
    "    f.write(\n",
    "        json.dumps(\n",
    "            content_to_write,\n",
    "            indent=4\n",
    "        )\n",
    "    )"
   ]
  },
  {
   "cell_type": "markdown",
   "id": "bd0410ca",
   "metadata": {},
   "source": [
    "### We can now check the Galaxy Cluster is up-to-date"
   ]
  },
  {
   "cell_type": "code",
   "execution_count": null,
   "id": "da95a1f2",
   "metadata": {},
   "outputs": [],
   "source": [
    "clusters = Clusters()\n",
    "\n",
    "print(list(clusters.get('tea-matrix').cluster_values.keys()))"
   ]
  },
  {
   "cell_type": "markdown",
   "id": "fc5cbbc4",
   "metadata": {},
   "source": [
    "## Create a new Galaxy\n",
    "\n",
    "### We declare both the Galaxy and the Cluster"
   ]
  },
  {
   "cell_type": "code",
   "execution_count": null,
   "id": "62df04b3",
   "metadata": {},
   "outputs": [],
   "source": [
    "from pymispgalaxies.api import Galaxy, Cluster\n",
    "\n",
    "new_galaxy = Galaxy(\n",
    "    {\n",
    "        'type': 'firearm-models',\n",
    "        'name': 'Firearm Models',\n",
    "        'description': 'Models of firearm',\n",
    "        'icon': 'map',\n",
    "        'uuid': uuid4().__str__(),\n",
    "        'version': 1\n",
    "    }\n",
    ")\n",
    "\n",
    "new_cluster = Cluster(\n",
    "    {\n",
    "        'authors': ['John Doe'],\n",
    "        'category': 'equipment',\n",
    "        'description': 'Models of firearm',\n",
    "        'name': 'Firearm Models',\n",
    "        'source': 'Open sources',\n",
    "        'type': 'firearm-models',\n",
    "        'uuid': uuid4().__str__(),\n",
    "        'version': 1,\n",
    "        'values': [\n",
    "            {\n",
    "                'value': 'Glock 17',\n",
    "                'description': 'Polymer-framed, short recoil-operated, locked-breech semi-automatic pistol',\n",
    "                'meta': {\n",
    "                    'killchain': ['handgun:pistol']\n",
    "                },\n",
    "                'uuid': uuid4().__str__()\n",
    "            },\n",
    "            {\n",
    "                'value': 'AK-47',\n",
    "                'description': 'Kalashnikov: gas-operated assault rifle',\n",
    "                'meta': {\n",
    "                    'killchain': ['long-gun:assault-rifle']\n",
    "                },\n",
    "                'uuid': uuid4().__str__()\n",
    "            },\n",
    "            {\n",
    "                'value': 'M40A3',\n",
    "                'description': 'The M40 rifle is a bolt-action sniper rifle used by the US Marines',\n",
    "                'meta': {\n",
    "                    'killchain': ['long-gun:sniper-rifle']\n",
    "                },\n",
    "                'uuid': uuid4().__str__()\n",
    "            }\n",
    "        ]\n",
    "    }\n",
    ")"
   ]
  },
  {
   "cell_type": "markdown",
   "id": "d21c8d1b",
   "metadata": {},
   "source": [
    "### Bump the new content"
   ]
  },
  {
   "cell_type": "code",
   "execution_count": null,
   "id": "2e5b479c",
   "metadata": {},
   "outputs": [],
   "source": [
    "galaxies_dir = Path(galaxies.root_dir_galaxies).resolve()\n",
    "\n",
    "with open(galaxies_dir / f'{new_galaxy.type}.json', 'w') as f:\n",
    "    f.write(json.dumps(new_galaxy.to_dict(), indent=4))\n",
    "    \n",
    "with open(clusters_dir / f'{new_cluster.type}.json', 'w') as f:\n",
    "    f.write(\n",
    "        json.dumps(\n",
    "            json.loads(new_cluster.to_json()),\n",
    "            indent=4\n",
    "        )\n",
    "    )"
   ]
  },
  {
   "cell_type": "markdown",
   "id": "5654595c",
   "metadata": {},
   "source": [
    "### We can now check the created content is available"
   ]
  },
  {
   "cell_type": "code",
   "execution_count": null,
   "id": "4d898529",
   "metadata": {},
   "outputs": [],
   "source": [
    "galaxies = Galaxies()\n",
    "print(list(galaxies.keys()))\n",
    "print(f\"\\nFirearm Models Galaxy in the list of available galaxies: {'Firearm Models' in galaxies.keys()}\\n\")\n",
    "\n",
    "clusters = Clusters()\n",
    "print(list(clusters.keys()))\n",
    "print(f\"\\nfirearm-models Cluster in the list of available clusters: {'firearm-models' in clusters.keys()}\")"
   ]
  },
  {
   "cell_type": "code",
   "execution_count": null,
   "id": "e6bf1bab",
   "metadata": {},
   "outputs": [],
   "source": []
  }
 ],
 "metadata": {
  "kernelspec": {
   "display_name": "Python 3 (ipykernel)",
   "language": "python",
   "name": "python3"
  },
  "language_info": {
   "codemirror_mode": {
    "name": "ipython",
    "version": 3
   },
   "file_extension": ".py",
   "mimetype": "text/x-python",
   "name": "python",
   "nbconvert_exporter": "python",
   "pygments_lexer": "ipython3",
   "version": "3.10.6"
  }
 },
 "nbformat": 4,
 "nbformat_minor": 5
}
