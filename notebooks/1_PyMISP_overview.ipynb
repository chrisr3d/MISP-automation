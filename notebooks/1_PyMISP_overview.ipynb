{
 "cells": [
  {
   "cell_type": "markdown",
   "id": "a01c1911",
   "metadata": {},
   "source": [
    "# Initializing your environment\n",
    "\n",
    "### Setting up a virtual environment\n",
    "(Optional but recommended)\n",
    "\n",
    "```bash\n",
    "virtualenv -p python3 venv\n",
    "source venv/bin/activate\n",
    "```\n",
    "(Use `deactivate` to exit from `source` once you are done)\n",
    "\n",
    "Alternatively you can also prefix all your `python` and `pip` commands with `./venv/bin/` (e.g: `./venv/bin/pip3 install -U pip`)\n",
    "\n",
    "\n",
    "\n",
    "## Setting up Jupyter\n",
    "\n",
    "In order to follow along on your computer:\n",
    "\n",
    "```bash\n",
    "pip3 install notebook\n",
    "jupyter-notebook\n",
    "```\n",
    "\n",
    "## Installation of PyMISP\n",
    "\n",
    "#### Make sure the submodules are up-to-date and cloned\n",
    "\n",
    "```bash\n",
    "git submodule update --init --recursive PyMISP/\n",
    "```\n",
    "\n",
    "#### Install PyMISP with the developer options\n",
    "\n",
    "```bash\n",
    "cd PyMISP\n",
    "pip3 install -e .\n",
    "```\n",
    "\n",
    "#### To be able to use the additional PyMISP helpers\n",
    "\n",
    "```bash\n",
    "# Make sure the package required for pydeep is installed\n",
    "sudo apt-get install -y libfuzzy-dev\n",
    "\n",
    "pip3 install python-magic, lief, git+https://github.com/kbandla/pydeep.git\n",
    "```"
   ]
  },
  {
   "cell_type": "markdown",
   "id": "897a1ba4",
   "metadata": {},
   "source": [
    "# Using the PyMISP objects\n",
    "\n",
    "PyMISP is the python library used to deal with MISP format so you do not have to deal with the JSON blob yourself without knowing about the required and optional fields."
   ]
  },
  {
   "cell_type": "markdown",
   "id": "30fd7068",
   "metadata": {},
   "source": [
    "## MISPEvent\n",
    "\n",
    "MISPEvent is the main class to use when you want to create/update events on a MISP instance."
   ]
  },
  {
   "cell_type": "code",
   "execution_count": null,
   "id": "abbc02aa",
   "metadata": {},
   "outputs": [],
   "source": [
    "from pymisp import MISPEvent\n",
    "\n",
    "event = MISPEvent()\n",
    "\n",
    "event.info = 'A fancy MISP Event'  # Required\n",
    "event.distribution = 0  # Optional, sets the distribution level to \"Your Organisation only\"\n",
    "event.threat_level_id = 2  # Optional, sets the threat level to \"Medium\"\n",
    "event.analysis = 1  # Optional, set the analysis to \"Ongoing\"\n",
    "\n",
    "print(event.to_json(indent=4))"
   ]
  },
  {
   "cell_type": "markdown",
   "id": "9c1c36a1",
   "metadata": {},
   "source": [
    "### Set the event date\n",
    "\n",
    "The date can be in many different formats. PyMISP normalizes it in a way that will be understood by your MISP instance: a date in the `YYYY-MM-DD` format."
   ]
  },
  {
   "cell_type": "code",
   "execution_count": null,
   "id": "f20faeb5",
   "metadata": {},
   "outputs": [],
   "source": [
    "event.set_date('2022-01-06')\n",
    "print(f'From a text date: {event.date}')\n",
    "\n",
    "from datetime import date\n",
    "d = date.today()\n",
    "event.set_date(d)\n",
    "print(f'From a datetime.date date: {event.date}')\n",
    "\n",
    "from datetime import datetime\n",
    "d = datetime.now()\n",
    "event.set_date(d)\n",
    "# MISP expects a day, so the Hour will be dropped\n",
    "print(f'From a datetime.datetime date: {event.date}')"
   ]
  },
  {
   "cell_type": "markdown",
   "id": "23b0352d",
   "metadata": {},
   "source": [
    "### Tag an Event\n",
    "\n",
    "An easy way to tag an Event"
   ]
  },
  {
   "cell_type": "code",
   "execution_count": null,
   "id": "de55d09a",
   "metadata": {},
   "outputs": [],
   "source": [
    "event.add_tag('tlp:white')\n",
    "\n",
    "print(event.to_json(indent=4))"
   ]
  },
  {
   "cell_type": "markdown",
   "id": "f30eadc5",
   "metadata": {},
   "source": [
    "## MISP Attribute\n",
    "\n",
    "MISP Attributes are the raw pieces of data that can either be indicators of compromise (IoCs) or observed data.\n",
    "\n",
    "They are defined with a triplet of required values being a `type`, a `category` and a `value`, and a bunch of optional fields.\n",
    "\n",
    "The Attributes parameters are the following:\n",
    "- **type** (required)\n",
    "- **value** (required)\n",
    "- **category**: the type of information (if not set, the default one for the given `type` is used)\n",
    "- **to_ids**: defines whether the attribute defines some malicious data that should be blocked, or not (if not set, the default value for the given `type` is used)\n",
    "- **distribution**: defaults to inherit from parent (event or object)\n",
    "- **disable_correlation**: if you want to avoid correlations between events on that specific value\n",
    "- **data**: for `malware-sample` and `attachment` types, BytesIO object of the file."
   ]
  },
  {
   "cell_type": "markdown",
   "id": "4884a20c",
   "metadata": {},
   "source": [
    "### A minimal and quick way of adding an attribute"
   ]
  },
  {
   "cell_type": "code",
   "execution_count": null,
   "id": "431eca3e",
   "metadata": {},
   "outputs": [],
   "source": [
    "attribute1 = event.add_attribute('ip-dst', '8.8.8.8')\n",
    "\n",
    "print(attribute1.to_json(indent=4))"
   ]
  },
  {
   "cell_type": "markdown",
   "id": "d09ac969",
   "metadata": {},
   "source": [
    "### Set inline parameters"
   ]
  },
  {
   "cell_type": "code",
   "execution_count": null,
   "id": "e5ec9c1f",
   "metadata": {},
   "outputs": [],
   "source": [
    "attribute2 = event.add_attribute('ip-dst', '8.8.8.9', disable_correlation=True)\n",
    "\n",
    "print(attribute2.to_json(indent=4))"
   ]
  },
  {
   "cell_type": "markdown",
   "id": "0d4cc602",
   "metadata": {},
   "source": [
    "### Modify an existing attribute\n",
    "\n",
    "Every parameter can be modified in a pythonic way"
   ]
  },
  {
   "cell_type": "code",
   "execution_count": null,
   "id": "17e79f98",
   "metadata": {},
   "outputs": [],
   "source": [
    "attribute1.to_ids = False\n",
    "\n",
    "print(attribute1.to_json(indent=4))"
   ]
  },
  {
   "cell_type": "markdown",
   "id": "8c39aa0c",
   "metadata": {},
   "source": [
    "### Soft delete an attribute\n",
    "\n",
    "The default approach on MISP is to soft delete data, which means it will not be displayed in the dafult view on MISP.  \n",
    "The reason for doing this is to allow to push delete updates to instances we synchronise with."
   ]
  },
  {
   "cell_type": "code",
   "execution_count": null,
   "id": "e0058778",
   "metadata": {},
   "outputs": [],
   "source": [
    "attribute2.delete()\n",
    "\n",
    "print(event.to_json(indent=4))"
   ]
  },
  {
   "cell_type": "markdown",
   "id": "138b71b9",
   "metadata": {},
   "source": [
    "### A more advanced way of passing the different parameters at once"
   ]
  },
  {
   "cell_type": "code",
   "execution_count": null,
   "id": "2b09f0fe",
   "metadata": {},
   "outputs": [],
   "source": [
    "from uuid import uuid4\n",
    "\n",
    "attribute_uuid = uuid4()\n",
    "print(attribute_uuid)\n",
    "\n",
    "kwargs = {\n",
    "    'to_ids': False,\n",
    "    'disable_correlation': True,\n",
    "    'category': 'Network activity',\n",
    "    'uuid': attribute_uuid\n",
    "}\n",
    "attribute = event.add_attribute('ip-src', '1.1.1.1', **kwargs)\n",
    "\n",
    "print(attribute.to_json(indent=4))"
   ]
  },
  {
   "cell_type": "markdown",
   "id": "511cbf40",
   "metadata": {},
   "source": [
    "### Using the MISPAttribute class\n",
    "\n",
    "Allows you to play with the attribute before adding it to the event.\n",
    "\n",
    "It is then possible to load the attribute from a JSON or from a dict"
   ]
  },
  {
   "cell_type": "code",
   "execution_count": null,
   "id": "1640c140",
   "metadata": {},
   "outputs": [],
   "source": [
    "from pymisp import MISPAttribute\n",
    "\n",
    "attribute = MISPAttribute()\n",
    "attribute.type = 'domain'\n",
    "attribute.value = 'circl.lu'\n",
    "\n",
    "print(attribute.to_json(indent=4))\n",
    "print(event.add_attribute(**attribute).to_json(indent=4))"
   ]
  },
  {
   "cell_type": "code",
   "execution_count": null,
   "id": "d071f7d8",
   "metadata": {},
   "outputs": [],
   "source": [
    "# Loaded from a JSON\n",
    "json = '''{\n",
    "    \"type\": \"domain\",\n",
    "    \"value\": \"circl.lu\",\n",
    "    \"to_ids\": false\n",
    "}'''\n",
    "\n",
    "json_attribute = MISPAttribute()\n",
    "json_attribute.from_json(json)\n",
    "\n",
    "print(json_attribute.to_json(indent=4))"
   ]
  },
  {
   "cell_type": "code",
   "execution_count": null,
   "id": "c504986d",
   "metadata": {},
   "outputs": [],
   "source": [
    "# Loaded from a python dict\n",
    "_dict = {\n",
    "    'type': 'domain',\n",
    "    'value': 'circl.lu',\n",
    "    'to_ids': False\n",
    "}\n",
    "\n",
    "dict_attribute = MISPAttribute()\n",
    "dict_attribute.from_dict(**_dict)\n",
    "\n",
    "print(dict_attribute.to_json(indent=4))"
   ]
  },
  {
   "cell_type": "markdown",
   "id": "dcb6cb35",
   "metadata": {},
   "source": [
    "### Tag an Attribute\n",
    "\n",
    "The same way to tag events applies for attributes"
   ]
  },
  {
   "cell_type": "code",
   "execution_count": null,
   "id": "6e61a2f1",
   "metadata": {},
   "outputs": [],
   "source": [
    "dict_attribute.add_tag('tlp:white')\n",
    "\n",
    "print(dict_attribute.to_json(indent=4))"
   ]
  },
  {
   "cell_type": "markdown",
   "id": "bb19651b",
   "metadata": {},
   "source": [
    "## MISP Object\n",
    "\n",
    "MISP Objects are containers to group attributes in a way that makes sense. The objects are based on templates that are bundled in the library itself, but you can also use your own templates.\n",
    "\n"
   ]
  },
  {
   "cell_type": "code",
   "execution_count": null,
   "id": "40f7309f",
   "metadata": {},
   "outputs": [],
   "source": [
    "from pymisp import MISPObject\n",
    "\n",
    "misp_object = MISPObject('domain-ip')\n",
    "misp_object.comment = 'My fancy new object'\n",
    "\n",
    "object_attribute = misp_object.add_attribute('domain', value='circl.lu')\n",
    "object_attribute.add_tag('tlp:green')\n",
    "misp_object.add_attribute('ip', value='149.13.33.14')\n",
    "misp_object.add_attribute('first-seen', value='2022-12-31')\n",
    "misp_object.add_attribute('last-seen', value='2023-01-06')\n",
    "\n",
    "print(misp_object.to_json(indent=4))"
   ]
  },
  {
   "cell_type": "markdown",
   "id": "b7abf464",
   "metadata": {},
   "source": [
    "### Short version to add an object to a MISPEvent\n",
    "\n",
    "You can also add the object directly in a MISP event"
   ]
  },
  {
   "cell_type": "code",
   "execution_count": null,
   "id": "4b613487",
   "metadata": {},
   "outputs": [],
   "source": [
    "from pymisp import MISPObject\n",
    "\n",
    "misp_object = event.add_object(name='domain-ip', comment='My fancy new object')\n",
    "\n",
    "object_attribute = misp_object.add_attribute('domain', value='circl.lu')\n",
    "object_attribute.add_tag('tlp:green')\n",
    "misp_object.add_attribute('ip', value='149.13.33.14')\n",
    "misp_object.add_attribute('first-seen', value='2022-12-31')\n",
    "misp_object.add_attribute('last-seen', value='2023-01-06')\n",
    "\n",
    "misp_object.add_reference(attribute1.uuid, 'connects-to')\n",
    "\n",
    "print(event.to_json(indent=4))"
   ]
  },
  {
   "cell_type": "markdown",
   "id": "e865f06f",
   "metadata": {},
   "source": [
    "# Helpers for MISPObjects\n",
    "\n",
    "For some objects, we have helpers in order to make your life easier. The most relevant example is the file object: when you have a file to push on MISP, there are plenty of indicators you can extract at once, and it is pretty simple to automate, so we made it a oneliner.\n",
    "\n",
    "**Note**: This requires a few more dependencies to get the full power of the script: \n",
    "* `lief` to extract indicators out of PE/ELF/MachO files, and soon Android binaries.\n",
    "* `python-magic` to get the mime type\n",
    "* `pydeep` to compute the ssdeep of the binary whenever possible\n",
    "\n",
    "\n",
    "```bash\n",
    "pip install lief python-magic git+https://github.com/kbandla/pydeep.git\n",
    "```"
   ]
  },
  {
   "cell_type": "code",
   "execution_count": null,
   "id": "6bfb4332",
   "metadata": {},
   "outputs": [],
   "source": [
    "from pathlib import Path\n",
    "test_path = Path().resolve().parent / 'PyMISP' / 'tests'\n",
    "print(test_path)\n",
    "\n",
    "from pymisp.tools import FileObject\n",
    "\n",
    "file_object = FileObject(\n",
    "    filepath=test_path / 'viper-test-files' / 'test_files' / 'EICAR.com',\n",
    "    standalone=False\n",
    ")\n",
    "print(file_object.to_json(indent=4))"
   ]
  },
  {
   "cell_type": "markdown",
   "id": "01e34781",
   "metadata": {},
   "source": [
    "## Playing with a malware sample\n",
    "\n",
    "The data you receive out of the JSON dump from a MISP instance is a base64 encoded zip with `infected` as a password.  \n",
    "The zip file contains 2 files, one containing the original file name of the uploaded file, and the other one is the binary.\n",
    "\n",
    "This is pretty much a pain to use as-is, so there is an helper for that!"
   ]
  },
  {
   "cell_type": "code",
   "execution_count": null,
   "id": "ca2d858f",
   "metadata": {},
   "outputs": [],
   "source": [
    "sample = file_object.get_attributes_by_relation('malware-sample')[0]\n",
    "print(sample)\n",
    "print('File name --->', sample.malware_filename)\n",
    "print(sample.malware_binary)\n",
    "print('Content of the malware (in bytes) ----->', sample.malware_binary.getvalue())"
   ]
  },
  {
   "cell_type": "markdown",
   "id": "f0ad87b9",
   "metadata": {},
   "source": [
    "## Use lief to extract indicators out of binaries\n",
    "\n",
    "Another cool hepler allows you to pass the path of a binary. If the binary's format is supported by `lief`, you get the file object, the binary definition (PE, ELf or Mach-o) and the relevant sections.\n",
    "\n",
    "If it is anything else, it will simply generate a file object."
   ]
  },
  {
   "cell_type": "code",
   "execution_count": null,
   "id": "af8292e2",
   "metadata": {},
   "outputs": [],
   "source": [
    "from pymisp.tools import make_binary_objects\n",
    "\n",
    "misp_event = MISPEvent()\n",
    "misp_event.info = 'Test with binary file'\n",
    "\n",
    "filepath = test_path / 'viper-test-files' / 'test_files' / 'whoami.exe'\n",
    "file_obj, bin_obj, sections = make_binary_objects(\n",
    "    filepath=filepath.as_posix(),\n",
    "    standalone=False\n",
    ")\n",
    "\n",
    "misp_event.add_object(file_obj)\n",
    "if bin_obj:\n",
    "    misp_event.add_object(bin_obj)\n",
    "    for section in sections:\n",
    "        misp_event.add_object(section)"
   ]
  },
  {
   "cell_type": "markdown",
   "id": "2978fc75",
   "metadata": {},
   "source": [
    "The references between the different objects are also set by default with the `make_binary_objects` method."
   ]
  },
  {
   "cell_type": "code",
   "execution_count": null,
   "id": "e611cf87",
   "metadata": {},
   "outputs": [],
   "source": [
    "print(misp_event.to_json(indent=4))"
   ]
  },
  {
   "cell_type": "markdown",
   "id": "c3bc367c",
   "metadata": {},
   "source": [
    "## CSV support"
   ]
  },
  {
   "cell_type": "code",
   "execution_count": null,
   "id": "0e11fa46",
   "metadata": {},
   "outputs": [],
   "source": [
    "valid_csv = test_path / 'csv_testfiles' / 'valid_fieldnames.csv'\n",
    "\n",
    "with open(valid_csv, 'r') as f:\n",
    "    print(f.read())"
   ]
  },
  {
   "cell_type": "markdown",
   "id": "c3a8d500",
   "metadata": {},
   "source": [
    "In this case, we have valid field names, we can use the file as is and pass it to the CSV loader:"
   ]
  },
  {
   "cell_type": "code",
   "execution_count": null,
   "id": "ed6ce854",
   "metadata": {},
   "outputs": [],
   "source": [
    "from pymisp.tools import CSVLoader\n",
    "\n",
    "csv1 = CSVLoader(template_name='file', csv_path=valid_csv)\n",
    "csv_event = MISPEvent()\n",
    "csv_event.info = 'Test event from CSV loader'\n",
    "\n",
    "for o in csv1.load():\n",
    "    csv_event.add_object(**o)\n",
    "    \n",
    "print(csv_event.to_json(indent=4))"
   ]
  },
  {
   "cell_type": "code",
   "execution_count": null,
   "id": "8f74642c",
   "metadata": {},
   "outputs": [],
   "source": [
    "invalid_csv = test_path / 'csv_testfiles' / 'invalid_fieldnames.csv'\n",
    "\n",
    "with open(invalid_csv, 'r') as f:\n",
    "    print(f.read())"
   ]
  },
  {
   "cell_type": "markdown",
   "id": "d5d098cc",
   "metadata": {},
   "source": [
    "The field names being invalid, we have to specify them with some valid `object_relation` fields.\n",
    "\n",
    "In our case we also have to tell the CSV loader that we already have field names otherwise the first line is going to be imported in a MISP object."
   ]
  },
  {
   "cell_type": "code",
   "execution_count": null,
   "id": "875ef9dc",
   "metadata": {},
   "outputs": [],
   "source": [
    "csv_event = MISPEvent()\n",
    "csv_event.info = 'Test event from CSV loader'\n",
    "\n",
    "csv2 = CSVLoader(\n",
    "    template_name='file',\n",
    "    csv_path=invalid_csv,\n",
    "    fieldnames=['sha1', 'filename', 'size-in-bytes'],\n",
    "    has_fieldnames=True\n",
    ")\n",
    "\n",
    "for o in csv2.load():\n",
    "    csv_event.add_object(**o)\n",
    "    \n",
    "print(csv_event.to_json(indent=4))"
   ]
  },
  {
   "cell_type": "markdown",
   "id": "9017b848",
   "metadata": {},
   "source": [
    "## Generic helper\n",
    "\n",
    "This helper can be used when you already have a script that does the mapping between your own code and a MISPObject template."
   ]
  },
  {
   "cell_type": "code",
   "execution_count": null,
   "id": "08df04a3",
   "metadata": {},
   "outputs": [],
   "source": [
    "from pymisp.tools import GenericObjectGenerator\n",
    "\n",
    "attributes_as_dict = [\n",
    "    {\n",
    "        'filename': 'shell1.exe',\n",
    "        'sha1': {\n",
    "            'value': 'b7afa7acf1b7ded2c4e3d0884b5cdaa230d9f82e',\n",
    "            'to_ids': False\n",
    "        },\n",
    "        'size-in-bytes': {\n",
    "            'value': 24576,\n",
    "            'disable_correlation': True\n",
    "        }\n",
    "    }\n",
    "]\n",
    "\n",
    "misp_object = GenericObjectGenerator('file', strict=True)\n",
    "misp_object.generate_attributes(attributes_as_dict)\n",
    "\n",
    "print(misp_object.to_json(indent=4))"
   ]
  },
  {
   "cell_type": "markdown",
   "id": "cbd5240e",
   "metadata": {},
   "source": [
    "### User defined objects\n",
    "\n",
    "The Generic helper can also be used to define your own object template."
   ]
  },
  {
   "cell_type": "code",
   "execution_count": null,
   "id": "a94ec2f9",
   "metadata": {},
   "outputs": [],
   "source": [
    "attributes_as_dict = [\n",
    "    {\n",
    "        'MyCoolAttribute': {\n",
    "            'value': 'critical thing',\n",
    "            'type': 'text'\n",
    "        },\n",
    "        'MyCoolerAttribute': {\n",
    "            'value': 'even worse',\n",
    "            'type': 'text'\n",
    "        }\n",
    "    }\n",
    "]\n",
    "\n",
    "# We cannot use `strict=True` here\n",
    "misp_object = GenericObjectGenerator('my-cool-template')\n",
    "misp_object.generate_attributes(attributes_as_dict)\n",
    "\n",
    "print(misp_object.to_json(indent=4))"
   ]
  },
  {
   "cell_type": "markdown",
   "id": "0f7d81cc",
   "metadata": {},
   "source": [
    "PyMISP is OK with this generic object and won't complain if you set the required fields.\n",
    "\n",
    "Nonetheless, before pushing such event to MISP, we want to set a few additional fields:"
   ]
  },
  {
   "cell_type": "code",
   "execution_count": null,
   "id": "607e6e06",
   "metadata": {},
   "outputs": [],
   "source": [
    "from uuid import uuid4\n",
    "\n",
    "misp_object.template_uuid = uuid4()\n",
    "misp_object.template_id = 1\n",
    "misp_object.description = 'foo'\n",
    "setattr(misp_object, 'meta-category', 'bar')\n",
    "\n",
    "print(misp_object.to_json(indent=4))"
   ]
  },
  {
   "cell_type": "markdown",
   "id": "2f989165",
   "metadata": {},
   "source": [
    "### Use locally defined object templates\n",
    "\n",
    "**Important**: The path you pass as parameter for `misp_objects_path_custom` needs to contain a directory equals to the value of the parameter `name` (same structure as the content of the `misp-object` repository)"
   ]
  },
  {
   "cell_type": "code",
   "execution_count": null,
   "id": "fbafed1e",
   "metadata": {},
   "outputs": [],
   "source": [
    "user_defined_obj = MISPObject(\n",
    "    name='test_object_template',\n",
    "    strict=True,\n",
    "    misp_objects_path_custom=test_path / 'mispevent_testfiles'\n",
    ")\n",
    "\n",
    "user_defined_obj.add_attribute('member1', 'foo')\n",
    "user_defined_obj.add_attribute('member2', value='bar', to_ids=True)\n",
    "user_defined_obj.add_attribute('member3', **{'value': 'baz'})\n",
    "\n",
    "print(user_defined_obj.to_json(indent=4))"
   ]
  },
  {
   "cell_type": "code",
   "execution_count": null,
   "id": "426981c9",
   "metadata": {},
   "outputs": [],
   "source": []
  }
 ],
 "metadata": {
  "kernelspec": {
   "display_name": "Python 3 (ipykernel)",
   "language": "python",
   "name": "python3"
  },
  "language_info": {
   "codemirror_mode": {
    "name": "ipython",
    "version": 3
   },
   "file_extension": ".py",
   "mimetype": "text/x-python",
   "name": "python",
   "nbconvert_exporter": "python",
   "pygments_lexer": "ipython3",
   "version": "3.10.6"
  }
 },
 "nbformat": 4,
 "nbformat_minor": 5
}
