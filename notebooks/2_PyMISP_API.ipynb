{
 "cells": [
  {
   "cell_type": "markdown",
   "id": "dbe7cd1c",
   "metadata": {},
   "source": [
    "# Interacting with your MISP instance\n",
    "\n",
    "## Initializing the variables\n",
    "\n",
    "We need to set a few variables:\n",
    "- The URL of the MISP instance\n",
    "- Your authentication key\n",
    "- The certificate verification bool variable"
   ]
  },
  {
   "cell_type": "code",
   "execution_count": null,
   "id": "df8f863a",
   "metadata": {},
   "outputs": [],
   "source": [
    "# The URL of the MISP instance to connect to\n",
    "misp_url = 'https://training6.misp-community.org'\n",
    "\n",
    "# The authentication key (can be found in the MISP\n",
    "# web interface under _misp_url_/users/view/me -> Authkey)\n",
    "misp_key = '_YOUR_MISP_AUTHENTICATION_KEY_'\n",
    "\n",
    "# Should PyMISP verify the MISP certificate\n",
    "misp_verifycert = False"
   ]
  },
  {
   "cell_type": "markdown",
   "id": "99f50a33",
   "metadata": {},
   "source": [
    "Now we can use the API class"
   ]
  },
  {
   "cell_type": "code",
   "execution_count": null,
   "id": "6cc598a1",
   "metadata": {},
   "outputs": [],
   "source": [
    "from pymisp import PyMISP\n",
    "\n",
    "misp = PyMISP(misp_url, misp_key, misp_verifycert)\n",
    "\n",
    "# In order to return PyMISP objects whenever possible\n",
    "misp.toggle_global_pythonify()"
   ]
  },
  {
   "cell_type": "markdown",
   "id": "8b7144f6",
   "metadata": {},
   "source": [
    "## Creating an Event\n",
    "\n",
    "### Directly"
   ]
  },
  {
   "cell_type": "code",
   "execution_count": null,
   "id": "6cb55301",
   "metadata": {},
   "outputs": [],
   "source": [
    "event1 = misp.add_event(\n",
    "    {\n",
    "        'info': 'Event from notebook',\n",
    "        'distribution': 1,\n",
    "        'analysis': 1,\n",
    "        'threat_level_id': 1\n",
    "    }\n",
    ")\n",
    "\n",
    "print(f'Event id of the created event: {event1.id}')"
   ]
  },
  {
   "cell_type": "markdown",
   "id": "b14dedd5",
   "metadata": {},
   "source": [
    "### Using the MISPEvent constructor"
   ]
  },
  {
   "cell_type": "code",
   "execution_count": null,
   "id": "720201bb",
   "metadata": {},
   "outputs": [],
   "source": [
    "from pymisp import MISPEvent\n",
    "\n",
    "event_object = MISPEvent()\n",
    "event_object.info = 'Event from noteboook 2'\n",
    "event_object.distribution = 1\n",
    "event_object.threat_level_id = 1\n",
    "event_object.analysis = 1\n",
    "\n",
    "event2 = misp.add_event(event_object)\n",
    "print(f'Event id of the created event: {event2.id}')"
   ]
  },
  {
   "cell_type": "markdown",
   "id": "22f882ec",
   "metadata": {},
   "source": [
    "## Updating an existing Event\n",
    "\n",
    "### Fetching the Event"
   ]
  },
  {
   "cell_type": "code",
   "execution_count": null,
   "id": "f28e4976",
   "metadata": {},
   "outputs": [],
   "source": [
    "# Pick an Event id\n",
    "event_id = 10\n",
    "\n",
    "event = misp.get_event(event_id)\n",
    "print(event)"
   ]
  },
  {
   "cell_type": "markdown",
   "id": "21335833",
   "metadata": {},
   "source": [
    "### Add an Attribute to the Event"
   ]
  },
  {
   "cell_type": "code",
   "execution_count": null,
   "id": "ab6f1dcd",
   "metadata": {},
   "outputs": [],
   "source": [
    "from pymisp import MISPAttribute\n",
    "\n",
    "attribute_type = 'ip-src'\n",
    "category = 'Network activity'\n",
    "\n",
    "attribute = MISPAttribute()\n",
    "attribute.type = attribute_type\n",
    "attribute.value = '8.8.8.8'\n",
    "attribute.to_ids = True\n",
    "attribute.category = category\n",
    "\n",
    "added_attribute = misp.add_attribute(event_id, attribute)\n",
    "print(added_attribute.to_json(indent=4))"
   ]
  },
  {
   "cell_type": "markdown",
   "id": "0e3e4e4c",
   "metadata": {},
   "source": [
    "### Propose a new Attribute"
   ]
  },
  {
   "cell_type": "code",
   "execution_count": null,
   "id": "921c3378",
   "metadata": {},
   "outputs": [],
   "source": [
    "attribute = MISPAttribute()\n",
    "attribute.type = attribute_type\n",
    "attribute.value = '8.8.4.4'\n",
    "attribute.to_ids = False\n",
    "attribute.category = category\n",
    "\n",
    "proposal = misp.add_attribute_proposal(event_id, attribute)\n",
    "print(proposal.to_json(indent=4))"
   ]
  },
  {
   "cell_type": "markdown",
   "id": "970b209a",
   "metadata": {},
   "source": [
    "### Other operations on proposals"
   ]
  },
  {
   "cell_type": "code",
   "execution_count": null,
   "id": "1fa5566e",
   "metadata": {},
   "outputs": [],
   "source": [
    "# Get all the proposals for this event\n",
    "proposals = misp.attribute_proposals(event_id)\n",
    "\n",
    "# Get a specific proposal\n",
    "proposal = misp.get_attribute_proposal()\n",
    "print(proposal.to_json(indent=4))\n",
    "\n",
    "# Accept a proposal\n",
    "proposal = misp.accept_attribute_proposal()\n",
    "print(proposal)\n",
    "\n",
    "# Reject a proposal\n",
    "proposal = misp.discard_attribute_proposal()\n",
    "print(proposal)"
   ]
  },
  {
   "cell_type": "markdown",
   "id": "2e5c446b",
   "metadata": {},
   "source": [
    "### Propose changes to an Attribute"
   ]
  },
  {
   "cell_type": "code",
   "execution_count": null,
   "id": "804b5da6",
   "metadata": {},
   "outputs": [],
   "source": [
    "from pymisp import MISPShadowAttribute\n",
    "\n",
    "proposal = MISPShadowAttribute()\n",
    "proposal.type = 'ip-dst'\n",
    "proposal.category = 'External analysis'\n",
    "\n",
    "attribute = misp.update_attribute_proposal(added_attribute.id, proposal)\n",
    "print(attribute.to_json(indent=4))\n",
    "\n",
    "attribute = misp.update_attribute_proposal(\n",
    "    added_attribute.id,\n",
    "    {\n",
    "        'to_ids': False,\n",
    "        'comment': 'This is crap'\n",
    "    }\n",
    ")\n",
    "print(attribute.to_json(indent=4))"
   ]
  },
  {
   "cell_type": "markdown",
   "id": "2a992c22",
   "metadata": {},
   "source": [
    "### Update the Event\n",
    "\n",
    "We previously pushed some changes directly using the `PyMISP` constructor.\n",
    "\n",
    "We can also get an event, update it locally and push the changes afterwards."
   ]
  },
  {
   "cell_type": "code",
   "execution_count": null,
   "id": "cd416a16",
   "metadata": {},
   "outputs": [],
   "source": [
    "from pymisp import MISPObject\n",
    "\n",
    "event = misp.get_event(event_id)\n",
    "\n",
    "attribute = {\n",
    "    'type': 'ip-src',\n",
    "    'value': '20.8.8.8',\n",
    "    'to_ids': False,\n",
    "    'category': 'Network activity'\n",
    "}\n",
    "misp_attribute = MISPAttribute()\n",
    "misp_attribute.from_dict(**attribute)\n",
    "\n",
    "event.add_attribute(**misp_attribute)\n",
    "event.add_attribute('domain', 'circl.lu', disable_correlation=True, to_ids=False)\n",
    "\n",
    "misp_object = MISPObject('file')\n",
    "misp_object.add_attribute('filename', 'filename.exe')\n",
    "misp_object.add_attribute('size-in-bytes', 1234, disable_correlation=True)\n",
    "event.add_object(misp_object)\n",
    "\n",
    "updated_event = misp.update_event(event)\n",
    "print(updated_event.to_json(indent=4))"
   ]
  },
  {
   "cell_type": "markdown",
   "id": "52e4eccb",
   "metadata": {},
   "source": [
    "## Other available operations\n",
    "\n",
    "Here are some other useful operations available with the `PyMISP` constructor\n",
    "\n",
    "### Direct call (no validation)\n",
    "\n",
    "Since most of the operations are also available with direct calls:"
   ]
  },
  {
   "cell_type": "code",
   "execution_count": null,
   "id": "d3317bd4",
   "metadata": {},
   "outputs": [],
   "source": [
    "misp.direct_call(f'attributes/add/{event_id}', {'type': 'ip-dst', 'value': '10.9.8.7'})"
   ]
  },
  {
   "cell_type": "code",
   "execution_count": null,
   "id": "22b23a44",
   "metadata": {},
   "outputs": [],
   "source": [
    "misp.direct_call('events')"
   ]
  },
  {
   "cell_type": "markdown",
   "id": "0a612aa7",
   "metadata": {},
   "source": [
    "### Admin stuff\n",
    "\n",
    "/!\\ You need to have the permission to access those features /!\\\n",
    "\n",
    "#### Users"
   ]
  },
  {
   "cell_type": "code",
   "execution_count": null,
   "id": "db99fe16",
   "metadata": {},
   "outputs": [],
   "source": [
    "misp.users()"
   ]
  },
  {
   "cell_type": "markdown",
   "id": "5447bf1f",
   "metadata": {},
   "source": [
    "#### Organisations"
   ]
  },
  {
   "cell_type": "code",
   "execution_count": null,
   "id": "1d3d9694",
   "metadata": {},
   "outputs": [],
   "source": [
    "misp.organisations()"
   ]
  },
  {
   "cell_type": "markdown",
   "id": "1f16c3c9",
   "metadata": {},
   "source": [
    "#### Roles"
   ]
  },
  {
   "cell_type": "code",
   "execution_count": null,
   "id": "19a085e4",
   "metadata": {},
   "outputs": [],
   "source": [
    "misp.roles()"
   ]
  }
 ],
 "metadata": {
  "kernelspec": {
   "display_name": "Python 3 (ipykernel)",
   "language": "python",
   "name": "python3"
  },
  "language_info": {
   "codemirror_mode": {
    "name": "ipython",
    "version": 3
   },
   "file_extension": ".py",
   "mimetype": "text/x-python",
   "name": "python",
   "nbconvert_exporter": "python",
   "pygments_lexer": "ipython3",
   "version": "3.12.1"
  }
 },
 "nbformat": 4,
 "nbformat_minor": 5
}
