{
 "cells": [
  {
   "cell_type": "markdown",
   "id": "a0289014",
   "metadata": {},
   "source": [
    "# Initializing your environment\n",
    "\n",
    "## Setting up a virtual environment\n",
    "(Optional but recommended)\n",
    "\n",
    "```bash\n",
    "virtualenv -p python3 venv\n",
    "source venv/bin/activate\n",
    "```\n",
    "(Use `deactivate` to exit from `source` once you are done)\n",
    "\n",
    "Alternatively you can also prefix all your `python` and `pip` commands with `./venv/bin/` (e.g: `./venv/bin/pip3 install -U pip`)\n",
    "\n",
    "\n",
    "\n",
    "## Setting up Jupyter\n",
    "\n",
    "In order to follow along on your computer:\n",
    "\n",
    "```bash\n",
    "pip3 install notebook\n",
    "jupyter-notebook\n",
    "```\n",
    "\n",
    "## Installation of PyMISP\n",
    "\n",
    "#### Make sure the submodules are up-to-date and cloned\n",
    "\n",
    "```bash\n",
    "git submodule update --init --recursive PyMISP/\n",
    "```\n",
    "\n",
    "#### Install PyMISP with the developer options\n",
    "\n",
    "```bash\n",
    "cd PyMISP\n",
    "pip3 install -e .\n",
    "```"
   ]
  },
  {
   "cell_type": "markdown",
   "id": "dbe7cd1c",
   "metadata": {},
   "source": [
    "# Interacting with your MISP instance\n",
    "\n",
    "### Recovering your API key\n",
    "\n",
    "- Go to `Global Actions` then `My profile`\n",
    "- Alternatively, access the `/users/view/me` URL of your MISP instance\n",
    "\n",
    "## Initializing the variables\n",
    "\n",
    "We need to set a few variables:\n",
    "- The URL of the MISP instance\n",
    "- Your API key\n",
    "- The certificate verification bool variable"
   ]
  },
  {
   "cell_type": "code",
   "execution_count": null,
   "id": "df8f863a",
   "metadata": {},
   "outputs": [],
   "source": [
    "# The URL of the MISP instance to connect to\n",
    "misp_url = 'https://training.misp-community.org'\n",
    "\n",
    "# The authentication key (can be found in the MISP\n",
    "# web interface under _misp_url_/users/view/me -> Authkey)\n",
    "misp_key = 'Al0Yg00EmIhlddsTqx1fAV9nBliw9RXdSe13OvST'\n",
    "\n",
    "# Should PyMISP verify the MISP certificate\n",
    "misp_verifycert = True"
   ]
  },
  {
   "cell_type": "markdown",
   "id": "99f50a33",
   "metadata": {},
   "source": [
    "Now we can use the API class"
   ]
  },
  {
   "cell_type": "code",
   "execution_count": null,
   "id": "6cc598a1",
   "metadata": {},
   "outputs": [],
   "source": [
    "from pymisp import PyMISP\n",
    "\n",
    "misp = PyMISP(misp_url, misp_key, misp_verifycert)"
   ]
  },
  {
   "cell_type": "markdown",
   "id": "8b7144f6",
   "metadata": {},
   "source": [
    "## Creating an Event\n",
    "\n",
    "### Directly"
   ]
  },
  {
   "cell_type": "code",
   "execution_count": null,
   "id": "6cb55301",
   "metadata": {},
   "outputs": [],
   "source": [
    "event1 = misp.add_event(\n",
    "    {\n",
    "        'info': 'CryptoLocker ransomware infection via e-mail',\n",
    "        'distribution': 3,\n",
    "        'analysis': 2,\n",
    "        'threat_level_id': 1\n",
    "    }\n",
    ")\n",
    "\n",
    "print(f'Event id of the created event: {event1.id}')"
   ]
  },
  {
   "cell_type": "markdown",
   "id": "b14dedd5",
   "metadata": {},
   "source": [
    "### Using the MISPEvent constructor"
   ]
  },
  {
   "cell_type": "code",
   "execution_count": null,
   "id": "720201bb",
   "metadata": {},
   "outputs": [],
   "source": [
    "from pymisp import MISPAttribute, MISPEvent\n",
    "\n",
    "event = MISPEvent()\n",
    "event.info = 'Ransomware infection via e-mail'\n",
    "event.distribution = 3 # All communities\n",
    "event.threat_level_id = 3 # High\n",
    "event.analysis = 1 # Ongoing\n",
    "\n"
   ]
  },
  {
   "cell_type": "markdown",
   "id": "1bede280",
   "metadata": {},
   "source": [
    "### Add Attributes"
   ]
  },
  {
   "cell_type": "code",
   "execution_count": null,
   "id": "2e56f4a2",
   "metadata": {},
   "outputs": [],
   "source": [
    "# Add the IP address attribute\n",
    "ip_attribute = MISPAttribute()\n",
    "ip_attribute.from_dict(\n",
    "    **{\n",
    "        'type': 'ip-dst',\n",
    "        'value': '81.177.170.166',\n",
    "        'comment': 'IP address of a C2 server distributing the ransomware'\n",
    "    }\n",
    ")\n",
    "added_ip = event.add_attribute(**ip_attribute)\n",
    "print(added_ip)\n",
    "\n",
    "# Add the btc address attribute\n",
    "btc_attribute = event.add_attribute('btc', '1J7fmT3Wv62u4p6FuwbVJQXhQEjw3jzV63',\n",
    "                    comment='BTC address to pay the ransom')\n",
    "print(btc_attribute)"
   ]
  },
  {
   "cell_type": "markdown",
   "id": "9583c1a7",
   "metadata": {},
   "source": [
    "### Add the Event"
   ]
  },
  {
   "cell_type": "code",
   "execution_count": null,
   "id": "fd9ea50e",
   "metadata": {},
   "outputs": [],
   "source": [
    "misp_event = misp.add_event(event, pythonify=True)\n",
    "print(f'Event id of the created event: {misp_event.id}')"
   ]
  },
  {
   "cell_type": "markdown",
   "id": "22f882ec",
   "metadata": {},
   "source": [
    "## Updating an existing Event\n",
    "\n",
    "### Fetching the Event"
   ]
  },
  {
   "cell_type": "code",
   "execution_count": null,
   "id": "f28e4976",
   "metadata": {},
   "outputs": [],
   "source": [
    "# Pick an Event id - like the one you just printed above\n",
    "event_id = 268\n",
    "\n",
    "event = misp.get_event(event_id, pythonify=True)\n",
    "print(event)"
   ]
  },
  {
   "cell_type": "markdown",
   "id": "21335833",
   "metadata": {},
   "source": [
    "### Add some Objects\n",
    "\n",
    "We want to push a file directly in our Event"
   ]
  },
  {
   "cell_type": "code",
   "execution_count": null,
   "id": "ab6f1dcd",
   "metadata": {},
   "outputs": [],
   "source": [
    "from pathlib import Path\n",
    "test_path = Path().resolve().parent / 'PyMISP' / 'tests'\n",
    "print(test_path)\n",
    "\n",
    "from pymisp.tools import FileObject\n",
    "\n",
    "file_object = FileObject(\n",
    "    filepath=test_path / 'viper-test-files' / 'test_files' / 'EICAR.com',\n",
    "    standalone=False\n",
    ")\n",
    "\n",
    "added_object = event.add_object(file_object)\n",
    "print(added_object)"
   ]
  },
  {
   "cell_type": "markdown",
   "id": "0e3e4e4c",
   "metadata": {},
   "source": [
    "### Add new Objects"
   ]
  },
  {
   "cell_type": "code",
   "execution_count": null,
   "id": "921c3378",
   "metadata": {},
   "outputs": [],
   "source": [
    "from pymisp import MISPObject\n",
    "\n",
    "# Encode the email received by the victim\n",
    "email = MISPObject('email')\n",
    "email.add_attribute('from', 'andrew_ryan@rindustries.rp')\n",
    "email.add_attribute('subject', 'Report for case 4829-2375')\n",
    "email.add_attribute('email-body', 'Please see the attached Iolta report for 4829-2375.\\r\\n\\r\\nWe received a check request in the amount of $19,637.28 for the above referenced file. However, the attached report refects a $0 balance. At your earliest convenience, please advise how this request is to be funded.\\r\\n\\r\\nThanks.\\r\\n\\r\\nAndrew_Ryan *\\r\\nAccounts Payable\\r\\n\\r\\nRyan Industries\\r\\n42, Central Control Hephaestus - Rapture\\r\\nwww.rindustries.rp\\r\\n\\r\\n*Not licensed to practise law.\\r\\n\\r\\nThis communication contains information that is intended only for the recipient named and may be privileged, confidential, subject to the attorney-client privilege, and/or exempt from disclosure under applicable law. If you are not the intended recipient or agent responsible for delivering this communication to the intended recipient, you are hereby notified that you have received this communication in error, and that any review, disclosure, dissemination, distribution, use, or copying of this communication is STRICTLY PROHIBITED. If you have received this communication in error, please notify us immediately by telephone at 1-800-766-7751 or 1-972-643-6600 and destroy the material in its entirety, whether in electronic or hard copy format.')\n",
    "email_object = event.add_object(email)"
   ]
  },
  {
   "cell_type": "code",
   "execution_count": null,
   "id": "1fa5566e",
   "metadata": {},
   "outputs": [],
   "source": [
    "# Encode the Identity of the sender\n",
    "person = MISPObject('person')\n",
    "person.comment = 'The sender of the email'\n",
    "person.add_attribute('full-name', 'Andrew Ryan')\n",
    "person.add_attribute('e-mail', 'andrew_ryan@rindustries.rp')\n",
    "person.add_attribute('role', 'Suspect')\n",
    "person_object = event.add_object(person)"
   ]
  },
  {
   "cell_type": "markdown",
   "id": "2e5c446b",
   "metadata": {},
   "source": [
    "### Add references between objects"
   ]
  },
  {
   "cell_type": "code",
   "execution_count": null,
   "id": "804b5da6",
   "metadata": {},
   "outputs": [],
   "source": [
    "# From the email object, add a reference to the person object\n",
    "email_object.add_reference(person_object.uuid, 'sent-by')\n",
    "\n",
    "# From the file object, add a reference to the email object\n",
    "added_object.add_reference(email_object.uuid, 'dropped-by')\n",
    "\n",
    "# From the file_object, add a reference to the IP address Attribute\n",
    "added_object.add_reference(ip_attribute.uuid, 'connects-to')\n"
   ]
  },
  {
   "cell_type": "markdown",
   "id": "9479b920",
   "metadata": {},
   "source": [
    "### Add some tags"
   ]
  },
  {
   "cell_type": "code",
   "execution_count": null,
   "id": "f6748f77",
   "metadata": {},
   "outputs": [],
   "source": [
    "# Adding tags to the event\n",
    "event.add_tag('tlp:green')\n",
    "event.add_tag('ransomware:infection=\"phishing-e=mails\"')\n",
    "event.add_tag('malware_classification:malware-category=\"Ransomware\"')\n",
    "\n",
    "# Adding a tag to the IP address attribute\n",
    "added_ip.add_tag('adversary:infrastructure-type=\"C2\"')\n",
    "\n",
    "# Adding a Galaxy Cluster to the event\n",
    "event.add_tag('misp-galaxy:ransomware=\"CryptoLocker\"')"
   ]
  },
  {
   "cell_type": "markdown",
   "id": "2a992c22",
   "metadata": {},
   "source": [
    "### Update the Event\n",
    "\n",
    "We previously pushed an event to MISP directly, but we also did local changes.  \n",
    "We need then to update the Event on MISP."
   ]
  },
  {
   "cell_type": "code",
   "execution_count": null,
   "id": "cd416a16",
   "metadata": {},
   "outputs": [],
   "source": [
    "event.analysis = 2 # Completed\n",
    "event.publish()\n",
    "\n",
    "misp.update_event(event)"
   ]
  },
  {
   "cell_type": "markdown",
   "id": "52e4eccb",
   "metadata": {},
   "source": [
    "## API operations\n",
    "\n",
    "Here are some other useful operations available with the `PyMISP` constructor\n",
    "\n",
    "### Direct call (no validation)\n",
    "\n",
    "Since most of the operations are also available with direct calls:"
   ]
  },
  {
   "cell_type": "code",
   "execution_count": null,
   "id": "d3317bd4",
   "metadata": {},
   "outputs": [],
   "source": [
    "misp.direct_call(f'attributes/add/{event_id}', {'type': 'ip-dst', 'value': '10.9.8.7'})"
   ]
  },
  {
   "cell_type": "markdown",
   "id": "0a612aa7",
   "metadata": {},
   "source": [
    "### Searches"
   ]
  },
  {
   "cell_type": "code",
   "execution_count": null,
   "id": "db99fe16",
   "metadata": {},
   "outputs": [],
   "source": [
    "import json\n",
    "\n",
    "# Searching the Event index\n",
    "endpoint = 'events/index'\n",
    "\n",
    "body = {\n",
    "    'org': 'ORGNAME',\n",
    "    'published': True,\n",
    "    'publish_timestamp': '1d'\n",
    "}\n",
    "\n",
    "response = misp.direct_call(endpoint, body)\n",
    "print(json.dumps(response, indent=2))"
   ]
  },
  {
   "cell_type": "markdown",
   "id": "5447bf1f",
   "metadata": {},
   "source": [
    "### RestSearch"
   ]
  },
  {
   "cell_type": "code",
   "execution_count": null,
   "id": "1d3d9694",
   "metadata": {},
   "outputs": [],
   "source": [
    "endpoint = '/attributes/restSearch/'\n",
    "\n",
    "body = {\n",
    "    'returnFormat': 'json',\n",
    "    'type': ['ip-src', 'ip-dst'],\n",
    "    'last': '1d'\n",
    "}\n",
    "\n",
    "response = misp.direct_call(endpoint, body)\n",
    "print(response)"
   ]
  },
  {
   "cell_type": "markdown",
   "id": "1f16c3c9",
   "metadata": {},
   "source": [
    "## Using the search method"
   ]
  },
  {
   "cell_type": "code",
   "execution_count": null,
   "id": "19a085e4",
   "metadata": {},
   "outputs": [],
   "source": [
    "# Search for Events published by the organisation 'ORGNAME' in the last 2 days\n",
    "response = misp.search(org='ORGNAME', published=True, publish_timestamp='2d', pythonify=True)\n",
    "print(response)"
   ]
  },
  {
   "cell_type": "code",
   "execution_count": null,
   "id": "d49ef0ff",
   "metadata": {},
   "outputs": [],
   "source": [
    "# Search for Events containing Attributes with a specific value\n",
    "response = misp.search(value='81.177.170.166', pythonify=True)\n",
    "for event in response:\n",
    "    print(event)"
   ]
  },
  {
   "cell_type": "code",
   "execution_count": null,
   "id": "44a653bd-fba4-4acb-8484-7294ef87fd63",
   "metadata": {},
   "outputs": [],
   "source": [
    "# Search for published Events from the last 2 days tagged with tlp:clear\n",
    "events = misp.search(publish_timestamp='2d', tags=['tlp:clear'], pythonify=True)\n",
    "print(events)"
   ]
  },
  {
   "cell_type": "markdown",
   "id": "26bb668f-726e-4ee7-bbf8-883d01b7361a",
   "metadata": {},
   "source": [
    "### Search for attributes"
   ]
  },
  {
   "cell_type": "code",
   "execution_count": null,
   "id": "05e0f15d-d227-4ae9-b29b-cd68a10722b2",
   "metadata": {},
   "outputs": [],
   "source": [
    "# Search for IP addresses from the last 2 days\n",
    "attributes = misp.search(controller='attributes', type_attribute=['ip-src', 'ip-dst'], to_ids=1, last='2d', pythonify=True)\n",
    "for attribute in attributes:\n",
    "    print(attribute)"
   ]
  },
  {
   "cell_type": "code",
   "execution_count": null,
   "id": "0ca5e37c-db21-4715-a0ba-e076bfd72c44",
   "metadata": {},
   "outputs": [],
   "source": [
    "# Search for Attributes with TLP tag, but not tlp:amber nor tlp:red\n",
    "attributes = misp.search(controller='attributes', tags=['tlp:%', '!tlp:amber', '!tlp:red'], published=True, publish_timestamp='2d', pythonify=True)\n",
    "for attribute in attributes:\n",
    "    print(attribute)"
   ]
  },
  {
   "cell_type": "code",
   "execution_count": null,
   "id": "1a06f6af-c23f-4be7-a38a-54101c41290e",
   "metadata": {},
   "outputs": [],
   "source": [
    "# Paginate on the results above\n",
    "attributes = misp.search(\n",
    "    controller='attributes', tags=['tlp:%', '!tlp:amber', '!tlp:red'], published=True, limit=5, page=1, publish_timestamp='2d', pythonify=True\n",
    ")\n",
    "for attribute in attributes:\n",
    "    print(attribute)"
   ]
  },
  {
   "cell_type": "markdown",
   "id": "7e310d7f-7895-47c5-955a-c1371fc23036",
   "metadata": {},
   "source": [
    "### Trying different output formats"
   ]
  },
  {
   "cell_type": "code",
   "execution_count": null,
   "id": "4f832e7a-db7e-4a7a-a81d-cd3dd8a15791",
   "metadata": {},
   "outputs": [],
   "source": [
    "# Returning the attributes in CSV\n",
    "csv_attributes = misp.search(controller='attributes', type_attribute=['ip-src', 'ip-dst'], to_ids=1, last='2d', return_format='csv')\n",
    "print(csv_attributes)"
   ]
  },
  {
   "cell_type": "code",
   "execution_count": null,
   "id": "b78d578c-5900-4394-acf6-8f4abf39c945",
   "metadata": {},
   "outputs": [],
   "source": [
    "# Converting data into STIX\n",
    "stix2_content = misp.search(eventid=event_id, return_format=\"stix2\")\n",
    "print(json.dumps(stix2_content, indent=2))"
   ]
  },
  {
   "cell_type": "code",
   "execution_count": null,
   "id": "8059f215-f16b-44ac-8515-109544d74f09",
   "metadata": {},
   "outputs": [],
   "source": [
    "# Converting the Attributes only\n",
    "stix2_content = misp.search(\n",
    "    controller='attributes', type_attribute=[\"md5\", \"sha1\", \"sha256\"], eventid=event_id,\n",
    "    return_format=\"stix2\", **{\"stix-version\": \"2.1\"}\n",
    ")\n",
    "print(json.dumps(stix2_content, indent=2))"
   ]
  },
  {
   "cell_type": "code",
   "execution_count": null,
   "id": "0415b0e5-ee75-4100-aa29-13312ddf9b81",
   "metadata": {},
   "outputs": [],
   "source": []
  }
 ],
 "metadata": {
  "kernelspec": {
   "display_name": "Python 3 (ipykernel)",
   "language": "python",
   "name": "python3"
  },
  "language_info": {
   "codemirror_mode": {
    "name": "ipython",
    "version": 3
   },
   "file_extension": ".py",
   "mimetype": "text/x-python",
   "name": "python",
   "nbconvert_exporter": "python",
   "pygments_lexer": "ipython3",
   "version": "3.12.3"
  }
 },
 "nbformat": 4,
 "nbformat_minor": 5
}
