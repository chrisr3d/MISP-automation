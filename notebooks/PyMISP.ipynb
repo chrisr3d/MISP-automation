{
 "cells": [
  {
   "cell_type": "markdown",
   "id": "a01c1911",
   "metadata": {},
   "source": [
    "# Initializing your environment\n",
    "\n",
    "### Setting up a virtual environment\n",
    "(Optional but recommended)\n",
    "\n",
    "```bash\n",
    "virtualenv -p python3 venv\n",
    "source venv/bin/activate\n",
    "```\n",
    "(Use `deactivate` to exit from `source` once you are done)\n",
    "\n",
    "Alternatively you can also prefix all your `python` and `pip` commands with `./venv/bin/` (e.g: `./venv/bin/pip3 install -U pip`)\n",
    "\n",
    "\n",
    "\n",
    "## Setting up Jupyter\n",
    "\n",
    "In order to follow along on your computer:\n",
    "\n",
    "```bash\n",
    "pip3 install notebook\n",
    "jupyter-notebook\n",
    "```\n",
    "\n",
    "## Installation of PyMISP\n",
    "\n",
    "#### Make sure the submodules are up-to-date and cloned\n",
    "\n",
    "```bash\n",
    "git submodule update --init\n",
    "```\n",
    "\n",
    "#### Install PyMISP with the developer options\n",
    "\n",
    "```bash\n",
    "cd PyMISP\n",
    "pip3 install -e .\n",
    "```"
   ]
  },
  {
   "cell_type": "markdown",
   "id": "897a1ba4",
   "metadata": {},
   "source": [
    "# Using the PyMISP objects\n",
    "\n",
    "PyMISP is the python library used to deal with MISP format so you do not have to deal with the JSON blob yourself without knowing about the required and optional fields."
   ]
  },
  {
   "cell_type": "markdown",
   "id": "30fd7068",
   "metadata": {},
   "source": [
    "## MISPEvent\n",
    "\n",
    "MISPEvent is the main class to use when you want to create/update events on a MISP instance."
   ]
  },
  {
   "cell_type": "code",
   "execution_count": null,
   "id": "abbc02aa",
   "metadata": {},
   "outputs": [],
   "source": [
    "from pymisp import MISPEvent\n",
    "\n",
    "event = MISPEvent()\n",
    "\n",
    "event.info = 'A fancy MISP Event'  # Required\n",
    "event.distribution = 0  # Optional, sets the distribution level to \"Your Organisation only\"\n",
    "event.threat_level_id = 2  # Optional, sets the threat level to \"Medium\"\n",
    "event.analysis = 1  # Optional, set the analysis to \"Ongoing\"\n",
    "\n",
    "print(event.to_json(indent=4))"
   ]
  },
  {
   "cell_type": "markdown",
   "id": "9c1c36a1",
   "metadata": {},
   "source": [
    "### Set the event date\n",
    "\n",
    "The date can be in many different formats. PyMISP normalizes it in a way that will be understood by your MISP instance: a date in the `YYYY-MM-DD` format."
   ]
  },
  {
   "cell_type": "code",
   "execution_count": null,
   "id": "f20faeb5",
   "metadata": {},
   "outputs": [],
   "source": [
    "event.set_date('2022-01-06')\n",
    "print(f'From a text date: {event.date}')\n",
    "\n",
    "from datetime import date\n",
    "d = date.today()\n",
    "event.set_date(d)\n",
    "print(f'From a datetime.date date: {event.date}')\n",
    "\n",
    "from datetime import datetime\n",
    "d = datetime.now()\n",
    "event.set_date(d)\n",
    "# MISP expects a day, so the Hour will be dropped\n",
    "print(f'From a datetime.datetime date: {event.date}')"
   ]
  },
  {
   "cell_type": "markdown",
   "id": "23b0352d",
   "metadata": {},
   "source": [
    "### Tag an Event\n",
    "\n",
    "An easy way to tag an Event"
   ]
  },
  {
   "cell_type": "code",
   "execution_count": null,
   "id": "de55d09a",
   "metadata": {},
   "outputs": [],
   "source": [
    "event.add_tag('tlp:white')\n",
    "\n",
    "print(event.to_json(indent=4))"
   ]
  },
  {
   "cell_type": "markdown",
   "id": "f30eadc5",
   "metadata": {},
   "source": [
    "## MISP Attribute\n",
    "\n",
    "MISP Attributes are the raw pieces of data that can either be indicators of compromise (IoCs) or observed data.\n",
    "\n",
    "They are defined with a triplet of required values being a `type`, a `category` and a `value`, and a bunch of optional fields.\n",
    "\n",
    "With PyMISP, the Attributes parameters are the following:\n",
    "- **type** (required)\n",
    "- **value** (required)\n",
    "- **category**: the type of information (if not set, the default one for the given `type` is used)\n",
    "- **to_ids**: defines whether the attribute defines some malicious data that should be blocked, or not (if not set, the default value for the given `type` is used)\n",
    "- **distribution**: defaults to inherit from parent (event or object)\n",
    "- **disable_correlation**: if you want to avoid correlations between events on that specific value\n",
    "- **data**: for `malware-sample` and `attachment` types, BytesIO object of the file."
   ]
  },
  {
   "cell_type": "markdown",
   "id": "4884a20c",
   "metadata": {},
   "source": [
    "### A minimal and quick way of adding an attribute"
   ]
  },
  {
   "cell_type": "code",
   "execution_count": null,
   "id": "431eca3e",
   "metadata": {},
   "outputs": [],
   "source": [
    "attribute1 = event.add_attribute('ip-dst', '8.8.8.8')\n",
    "\n",
    "print(attribute1.to_json(indent=4))"
   ]
  },
  {
   "cell_type": "markdown",
   "id": "d09ac969",
   "metadata": {},
   "source": [
    "### Set inline parameters"
   ]
  },
  {
   "cell_type": "code",
   "execution_count": null,
   "id": "e5ec9c1f",
   "metadata": {},
   "outputs": [],
   "source": [
    "attribute2 = event.add_attribute('ip-dst', '8.8.8.9', disable_correlation=True)\n",
    "\n",
    "print(attribute2.to_json(indent=4))"
   ]
  },
  {
   "cell_type": "markdown",
   "id": "0d4cc602",
   "metadata": {},
   "source": [
    "### Modify an existing attribute\n",
    "\n",
    "Every parameter can be modified in a pythonic way"
   ]
  },
  {
   "cell_type": "code",
   "execution_count": null,
   "id": "17e79f98",
   "metadata": {},
   "outputs": [],
   "source": [
    "attribute1.to_ids = False\n",
    "\n",
    "print(attribute1.to_json(indent=4))"
   ]
  },
  {
   "cell_type": "markdown",
   "id": "8c39aa0c",
   "metadata": {},
   "source": [
    "### Soft delete an attribute\n",
    "\n",
    "The default approach on MISP is to soft delete data, which means it will not be displayed in the dafult view on MISP.  \n",
    "The reason for doing this is to allow to push delete updates to instances we synchronise with."
   ]
  },
  {
   "cell_type": "code",
   "execution_count": null,
   "id": "e0058778",
   "metadata": {},
   "outputs": [],
   "source": [
    "attribute2.delete()\n",
    "\n",
    "print(event.to_json(indent=4))"
   ]
  },
  {
   "cell_type": "markdown",
   "id": "138b71b9",
   "metadata": {},
   "source": [
    "### A more advanced way of passing the different parameters at once"
   ]
  },
  {
   "cell_type": "code",
   "execution_count": null,
   "id": "2b09f0fe",
   "metadata": {},
   "outputs": [],
   "source": [
    "from uuid import uuid4\n",
    "\n",
    "attribute_uuid = uuid4()\n",
    "print(attribute_uuid)\n",
    "\n",
    "kwargs = {\n",
    "    'to_ids': False,\n",
    "    'disable_correlation': True,\n",
    "    'category': 'Network activity',\n",
    "    'uuid': attribute_uuid\n",
    "}\n",
    "attribute = event.add_attribute('ip-src', '1.1.1.1', **kwargs)\n",
    "\n",
    "print(attribute.to_json(indent=4))"
   ]
  },
  {
   "cell_type": "markdown",
   "id": "511cbf40",
   "metadata": {},
   "source": [
    "### Using the MISPAttribute class\n",
    "\n",
    "Allows you to play with the attribute before adding it to the event.\n",
    "\n",
    "It is then possible to load the attribute from a JSON or from a dict"
   ]
  },
  {
   "cell_type": "code",
   "execution_count": null,
   "id": "1640c140",
   "metadata": {},
   "outputs": [],
   "source": [
    "from pymisp import MISPAttribute\n",
    "\n",
    "attribute = MISPAttribute()\n",
    "attribute.type = 'domain'\n",
    "attribute.value = 'circl.lu'\n",
    "\n",
    "print(attribute.to_json(indent=4))\n",
    "print(event.add_attribute(**attribute).to_json(indent=4))"
   ]
  },
  {
   "cell_type": "code",
   "execution_count": null,
   "id": "d071f7d8",
   "metadata": {},
   "outputs": [],
   "source": [
    "# Loaded from a JSON\n",
    "json = '''{\n",
    "    \"type\": \"domain\",\n",
    "    \"value\": \"circl.lu\",\n",
    "    \"to_ids\": false\n",
    "}'''\n",
    "\n",
    "json_attribute = MISPAttribute()\n",
    "json_attribute.from_json(json)\n",
    "\n",
    "print(json_attribute.to_json(indent=4))"
   ]
  },
  {
   "cell_type": "code",
   "execution_count": null,
   "id": "c504986d",
   "metadata": {},
   "outputs": [],
   "source": [
    "# Loaded from a python dict\n",
    "_dict = {\n",
    "    'type': 'domain',\n",
    "    'value': 'circl.lu',\n",
    "    'to_ids': False\n",
    "}\n",
    "\n",
    "dict_attribute = MISPAttribute()\n",
    "dict_attribute.from_dict(**_dict)\n",
    "\n",
    "print(dict_attribute.to_json(indent=4))"
   ]
  },
  {
   "cell_type": "code",
   "execution_count": null,
   "id": "40f7309f",
   "metadata": {},
   "outputs": [],
   "source": []
  }
 ],
 "metadata": {
  "kernelspec": {
   "display_name": "Python 3 (ipykernel)",
   "language": "python",
   "name": "python3"
  },
  "language_info": {
   "codemirror_mode": {
    "name": "ipython",
    "version": 3
   },
   "file_extension": ".py",
   "mimetype": "text/x-python",
   "name": "python",
   "nbconvert_exporter": "python",
   "pygments_lexer": "ipython3",
   "version": "3.10.6"
  }
 },
 "nbformat": 4,
 "nbformat_minor": 5
}
