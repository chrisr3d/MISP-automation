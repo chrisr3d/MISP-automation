{
 "cells": [
  {
   "cell_type": "markdown",
   "id": "1dac8104-0b85-4a62-b943-ded9e6bfe9e9",
   "metadata": {
    "editable": true,
    "slideshow": {
     "slide_type": ""
    },
    "tags": []
   },
   "source": [
    "# Automation Exercise: Analysing network captures"
   ]
  },
  {
   "cell_type": "markdown",
   "id": "fb13e225-1c11-4ab4-ad90-649dfa5c4599",
   "metadata": {
    "jp-MarkdownHeadingCollapsed": true
   },
   "source": [
    "## Initializing your environment\n",
    "\n",
    "### Setting up a virtual environment\n",
    "(Optional but recommended)\n",
    "\n",
    "```bash\n",
    "virtualenv -p python3 venv\n",
    "source venv/bin/activate\n",
    "```\n",
    "(Use `deactivate` to exit from `source` once you are done)\n",
    "\n",
    "Alternatively you can also prefix all your `python` and `pip` commands with `./venv/bin/` (e.g: `./venv/bin/pip3 install -U pip`)\n",
    "\n",
    "\n",
    "\n",
    "### Setting up Jupyter\n",
    "\n",
    "In order to follow along on your computer:\n",
    "\n",
    "```bash\n",
    "pip3 install notebook\n",
    "jupyter-notebook\n",
    "```\n",
    "\n",
    "### Installation of PyMISP\n",
    "\n",
    "#### Make sure the submodules are up-to-date and cloned\n",
    "\n",
    "```bash\n",
    "git submodule update --init --recursive PyMISP/\n",
    "```\n",
    "\n",
    "#### Install PyMISP with the developer options\n",
    "\n",
    "```bash\n",
    "cd PyMISP\n",
    "pip3 install -e .\n",
    "```\n",
    "\n",
    "#### To be able to use the additional PyMISP helpers\n",
    "\n",
    "```bash\n",
    "# Make sure the package required for pydeep is installed\n",
    "sudo apt-get install -y libfuzzy-dev\n",
    "\n",
    "pip3 install python-magic lief git+https://github.com/kbandla/pydeep.git\n",
    "```"
   ]
  },
  {
   "cell_type": "markdown",
   "id": "408fb86e-9b2f-430a-8441-29ae974c1ca4",
   "metadata": {},
   "source": [
    "## Automate the collection of data from network captures\n",
    "\n",
    "Network captures provide invaluable insights into network activity, enabling analysts to detect intrusions, malware communications, and other security threats. However, manually analyzing PCAP files can be extremely time-consuming, requiring the inspection of thousands—or even millions—of packets to extract relevant indicators of compromise (IOCs).\n",
    "\n",
    "Automation is key to streamlining this process. By leveraging the appropriate tools to parse network captures, extract meaningful threat intelligence and directly ingest it into MISP, analysts can significantly reduce the time spent on manual review. This approach not only accelerates incident response but also ensures that threat data is consistently structured and shared efficiently within the community. In this exercise, we will illustrate how automation can transform network capture analysis from a tedious task into an efficient, repeatable workflow that enhances security operations.\n",
    "\n",
    "### Introduction - Using the right tools\n",
    "\n",
    "#### Analysis Tools\n",
    "\n",
    "With this exercise, we will focus on the analysis of network captures rather than the capture process itself. If you are interested in discovering more about packet capture, you can have a look at the documentation of tools such as `tcpdump` or `wireshark`/`tshark`.\n",
    "\n",
    "For our analysis, we will be working with **PCAP files**.  \n",
    "A wide range of command-line tools are available for analyzing network captures, including:\n",
    "- capinfos (Wireshark) – Provides metadata about PCAP files (packet count, duration, etc.).\n",
    "- mergecap (Wireshark) – Merges multiple PCAP files into one.\n",
    "- editcap (Wireshark) – Edits and filters packets within a PCAP file.\n",
    "- tcpdump – Displays and filters packet data from a capture file.\n",
    "- ipsumdump – Summarizes network traffic for analysis.\n",
    "- tshark – A powerful packet analyzer with extensive filtering and parsing capabilities.\n",
    "- tcpflow – Reconstructs TCP flows from a capture (two versions exist with different capabilities).\n",
    "- ngrep – A grep-like tool for searching packet data.\n",
    "- yaf – Parses and processes network flows.\n",
    "\n",
    "#### PyMISP\n",
    "\n",
    "Our ultimate goal is to **structure and share** the information we extract from network packets in MISP. But manual encoding of the extracted data into MISP would be tedious and error-prone, which is why automation is essential.\n",
    "\n",
    "PyMISP,  the official Python library for MISP, provides a powerful way to interact with the platform programmatically. It allows us to create, enrich, and query events, ensuring a seamless flow of extracted intelligence from our analysis tools into MISP. By leveraging PyMISP in a Python script, we can automate the entire encoding process, transforming raw network data into actionable threat intelligence with minimal manual effort.\n",
    "\n",
    "In this exercise, we will explore how to use PyMISP to automate this workflow efficiently.\n",
    "\n",
    "### Exercise description\n",
    "\n",
    "#### Preliminary step - Gather our dataset\n",
    "\n",
    "Let's download PCAP files that are publicly available.\n",
    "\n",
    "With your favourite browser, visit the latest *malware-traffic-analysis.net* blog posts from [2025](https://malware-traffic-analysis.net/2025/index.html) and download some of the latest example of PCAP file. You will be able to download zip files protected with a password: *infected_YYYYMMDD* - depending on the date mentioned in the file name.\n",
    "\n",
    "Alternatively, you can execute the following python script which will gather some of the zip files from the website and extract the PCAPs for you:\n",
    "\n",
    "```bash\n",
    "python download_samples.py\n",
    "```\n"
   ]
  },
  {
   "cell_type": "code",
   "execution_count": null,
   "id": "18424d5c-c920-4039-8892-e25eb6937239",
   "metadata": {},
   "outputs": [],
   "source": []
  }
 ],
 "metadata": {
  "kernelspec": {
   "display_name": "Python 3 (ipykernel)",
   "language": "python",
   "name": "python3"
  },
  "language_info": {
   "codemirror_mode": {
    "name": "ipython",
    "version": 3
   },
   "file_extension": ".py",
   "mimetype": "text/x-python",
   "name": "python",
   "nbconvert_exporter": "python",
   "pygments_lexer": "ipython3",
   "version": "3.12.9"
  }
 },
 "nbformat": 4,
 "nbformat_minor": 5
}
