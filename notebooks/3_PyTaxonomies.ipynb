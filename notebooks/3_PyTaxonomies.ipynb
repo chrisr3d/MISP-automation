{
 "cells": [
  {
   "cell_type": "markdown",
   "id": "dfba8e43",
   "metadata": {},
   "source": [
    "# Initializing your environment\n",
    "\n",
    "### Setting up a virtual environment\n",
    "(Optional but recommended)\n",
    "\n",
    "```bash\n",
    "virtualenv -p python3 venv\n",
    "source venv/bin/activate\n",
    "```\n",
    "(Use `deactivate` to exit from `source` once you are done)\n",
    "\n",
    "Alternatively you can also prefix all your `python` and `pip` commands with `./venv/bin/` (e.g: `./venv/bin/pip3 install -U pip`)\n",
    "\n",
    "## Setting up Jupyter\n",
    "\n",
    "In order to follow along on your computer:\n",
    "\n",
    "```bash\n",
    "pip3 install notebook\n",
    "jupyter-notebook\n",
    "```\n",
    "\n",
    "## Installation of PyTaxonomies\n",
    "\n",
    "#### Make sure the submodules are up-to-date and cloned\n",
    "\n",
    "```bash\n",
    "git submodule update --init --recursive PyTaxonomies/\n",
    "```\n",
    "\n",
    "#### Installation\n",
    "\n",
    "```bash\n",
    "cd PyTaxonomies\n",
    "python3 setup.py install\n",
    "```"
   ]
  },
  {
   "cell_type": "markdown",
   "id": "c37c6771",
   "metadata": {},
   "source": [
    "# Basics\n",
    "\n",
    "## Taxonomies basic information"
   ]
  },
  {
   "cell_type": "code",
   "execution_count": null,
   "id": "5249c975",
   "metadata": {},
   "outputs": [],
   "source": [
    "from pytaxonomies import Taxonomies\n",
    "\n",
    "taxonomies = Taxonomies()\n",
    "print(f'Version: {taxonomies.version}')\n",
    "print(f'License: {taxonomies.license}')\n",
    "print(f'Description: {taxonomies.description}')\n",
    "print(f'Number of taxonomies: {len(taxonomies)}')\n",
    "print(f'Names: {list(taxonomies.keys())}')"
   ]
  },
  {
   "cell_type": "markdown",
   "id": "4cb19812",
   "metadata": {},
   "source": [
    "## Get information on a specific taxonomy"
   ]
  },
  {
   "cell_type": "code",
   "execution_count": null,
   "id": "fb55ea87",
   "metadata": {},
   "outputs": [],
   "source": [
    "# Pick whichever taxonomy name\n",
    "namespace = 'honeypot-basic'"
   ]
  },
  {
   "cell_type": "markdown",
   "id": "84c85659",
   "metadata": {},
   "source": [
    "### Standard information on the taxonomy"
   ]
  },
  {
   "cell_type": "code",
   "execution_count": null,
   "id": "8d1e6dd1",
   "metadata": {},
   "outputs": [],
   "source": [
    "taxonomy = taxonomies.get(namespace)\n",
    "for feature in ('name', 'version', 'description'):\n",
    "    print(f'{feature}: {getattr(taxonomy, feature)}')\n",
    "print()\n",
    "print(f'Number of predicates: {len(taxonomy)}')\n",
    "print(f'Number of entries: {taxonomy.amount_entries()}')"
   ]
  },
  {
   "cell_type": "markdown",
   "id": "b42db7c7",
   "metadata": {},
   "source": [
    "### Overview of the predicates"
   ]
  },
  {
   "cell_type": "code",
   "execution_count": null,
   "id": "2b6e0249",
   "metadata": {},
   "outputs": [],
   "source": [
    "print(f'predicates: {list(taxonomy.keys())}\\n')\n",
    "\n",
    "for predicate, values in taxonomy.predicates.items():\n",
    "    if len(values.keys()) == 0:\n",
    "        print(predicate)\n",
    "    else:\n",
    "        print(f'{predicate}:')\n",
    "        for value in values:\n",
    "            print(f' - {value}')"
   ]
  },
  {
   "cell_type": "markdown",
   "id": "4368690c",
   "metadata": {},
   "source": [
    "### Detailed information on the predicates and their values"
   ]
  },
  {
   "cell_type": "code",
   "execution_count": null,
   "id": "ab331181",
   "metadata": {},
   "outputs": [],
   "source": [
    "# Pick wichever of the predicates displayed above\n",
    "predicate_name = 'data-capture'\n",
    "predicate = taxonomy.get(predicate_name)"
   ]
  },
  {
   "cell_type": "code",
   "execution_count": null,
   "id": "9b9b64ae",
   "metadata": {},
   "outputs": [],
   "source": [
    "# In the case of TLP & PAP, there are only predicates\n",
    "if len(predicate.keys()) == 0:\n",
    "    for feature in ('predicate', 'expanded', 'description'):\n",
    "        print(f'{feature}: {getattr(predicate, feature)}')\n",
    "else:\n",
    "    for value in predicate.keys():\n",
    "        print(f'{value}:')\n",
    "        for feature in ('value', 'expanded', 'description'):\n",
    "            print(f' - {feature}: {getattr(predicate.get(value), feature)}')"
   ]
  },
  {
   "cell_type": "markdown",
   "id": "32eddbf5",
   "metadata": {},
   "source": [
    "#### And the easiest way"
   ]
  },
  {
   "cell_type": "code",
   "execution_count": null,
   "id": "25e2d890",
   "metadata": {},
   "outputs": [],
   "source": [
    "# It will fail if there are only predicates and no values\n",
    "\n",
    "value = 'network-capture'\n",
    "print(f'value: {predicate.get(value).value}')\n",
    "print(f'expanded value: {predicate.get(value).expanded}')\n",
    "print(f'description: {predicate.get(value).description}')\n",
    "print()\n",
    "\n",
    "# or directly\n",
    "print(taxonomies.get(namespace).get(predicate_name).get(value).value)"
   ]
  },
  {
   "cell_type": "markdown",
   "id": "db34c007",
   "metadata": {},
   "source": [
    "### Display the tags"
   ]
  },
  {
   "cell_type": "code",
   "execution_count": null,
   "id": "ba01a30b",
   "metadata": {},
   "outputs": [],
   "source": [
    "print(taxonomy.machinetags())\n",
    "print(f'\\nAnd with the expanded values:\\n{taxonomy.machinetags_expanded()}')"
   ]
  },
  {
   "cell_type": "markdown",
   "id": "a4b92371",
   "metadata": {},
   "source": [
    "# Create a new taxonomy\n",
    "\n",
    "## Declare a new Taxonomy"
   ]
  },
  {
   "cell_type": "code",
   "execution_count": null,
   "id": "4d13f83f",
   "metadata": {},
   "outputs": [],
   "source": [
    "from pytaxonomies import Taxonomy\n",
    "\n",
    "new_taxonomy = Taxonomy()\n",
    "\n",
    "new_taxonomy.name = \"false-positive\"\n",
    "new_taxonomy.description = \"This taxonomy aims to ballpark the expected amount of false positives.\"\n",
    "new_taxonomy.version = 1\n",
    "new_taxonomy.expanded = \"False positive\"\n",
    "\n",
    "print(new_taxonomy.to_json())"
   ]
  },
  {
   "cell_type": "markdown",
   "id": "bcce282e",
   "metadata": {},
   "source": [
    "## Declare the predicates"
   ]
  },
  {
   "cell_type": "code",
   "execution_count": null,
   "id": "c5938f0d",
   "metadata": {},
   "outputs": [],
   "source": [
    "from pytaxonomies import Predicate\n",
    "\n",
    "risk_predicate = Predicate()\n",
    "risk_predicate.predicate = 'risk'\n",
    "risk_predicate.expanded = 'Risk'\n",
    "risk_predicate.description = 'Risk of having false positives in the tagged value.'\n",
    "risk_predicate.exclusive = True\n",
    "print(risk_predicate.to_json())\n",
    "\n",
    "confirmed_predicate = Predicate()\n",
    "confirmed_predicate.predicate = 'confirmed'\n",
    "confirmed_predicate.expanded = 'Confirmed'\n",
    "confirmed_predicate.description = 'Confirmed false positives in the tagged value.'\n",
    "confirmed_predicate.exclusive = True\n",
    "print(confirmed_predicate.to_json())"
   ]
  },
  {
   "cell_type": "markdown",
   "id": "1743fc48",
   "metadata": {},
   "source": [
    "## Declare the entries"
   ]
  },
  {
   "cell_type": "code",
   "execution_count": null,
   "id": "9f7d1c93",
   "metadata": {},
   "outputs": [],
   "source": [
    "from pytaxonomies import Entry\n",
    "\n",
    "# Entries for the 'risk' predicate\n",
    "low = Entry()\n",
    "low.value = 'low'\n",
    "low.expanded = 'Low'\n",
    "low.description = 'The risk of having false positives in the tagged value is low.'\n",
    "low.numerical_value = 20\n",
    "\n",
    "medium = Entry()\n",
    "medium.value = 'medium'\n",
    "medium.expanded = 'Medium'\n",
    "medium.description = 'The risk of having false positives in the tagged value is medium.'\n",
    "medium.numerical_value = 50\n",
    "\n",
    "high = Entry()\n",
    "high.value = 'high'\n",
    "high.expanded = 'High'\n",
    "high.description = 'The risk of having false positives in the tagged value is high.'\n",
    "high.numerical_value = 75\n",
    "\n",
    "cannot_be_judged = Entry()\n",
    "cannot_be_judged.value = 'cannot-be-judged'\n",
    "cannot_be_judged.expanded = 'Risk cannot be judged'\n",
    "cannot_be_judged.description = 'The risk of having false positives in the tagged value cannot be judged.'\n",
    "cannot_be_judged.numerical_value = 25\n",
    "\n",
    "# Entries for the 'confirmed' predicate\n",
    "true = Entry()\n",
    "true.value = 'true'\n",
    "true.expanded = 'True'\n",
    "true.description = 'The false positive is confirmed.'\n",
    "true.numerical_value = 100\n",
    "\n",
    "false = Entry()\n",
    "false.value = 'false'\n",
    "false.expanded = 'False'\n",
    "false.description = 'The false positive is not confirmed.'\n",
    "false.numerical_value = 0"
   ]
  },
  {
   "cell_type": "markdown",
   "id": "51d09527",
   "metadata": {},
   "source": [
    "## Add the predicates and values"
   ]
  },
  {
   "cell_type": "code",
   "execution_count": null,
   "id": "d7c398d5",
   "metadata": {},
   "outputs": [],
   "source": [
    "risk_predicate.entries = {\n",
    "    'low': low,\n",
    "    'medium': medium,\n",
    "    'high': high,\n",
    "    'cannot-be-judged': cannot_be_judged\n",
    "}\n",
    "\n",
    "confirmed_predicate.entries = {\n",
    "    'true': true, 'false': false\n",
    "}\n",
    "\n",
    "new_taxonomy.predicates = {\n",
    "    'risk': risk_predicate,\n",
    "    'confirmed': confirmed_predicate\n",
    "}"
   ]
  },
  {
   "cell_type": "code",
   "execution_count": null,
   "id": "0273563e",
   "metadata": {},
   "outputs": [],
   "source": [
    "print(new_taxonomy.machinetags())"
   ]
  },
  {
   "cell_type": "markdown",
   "id": "f89f4613",
   "metadata": {},
   "source": [
    "## Add the new taxonomy in the repository"
   ]
  },
  {
   "cell_type": "code",
   "execution_count": null,
   "id": "84e4a265",
   "metadata": {},
   "outputs": [],
   "source": [
    "import json\n",
    "from pathlib import Path\n",
    "\n",
    "taxonomies_path = Path().resolve().parent / 'PyTaxonomies' / 'pytaxonomies' / 'data' / 'misp-taxonomies'\n",
    "\n",
    "with open(taxonomies_path / 'MANIFEST.json', 'rt', encoding='utf-8') as m:\n",
    "    manifest = json.load(m)\n",
    "    \n",
    "# We check if the taxonomy already exists.\n",
    "is_new = True\n",
    "for taxonomy in manifest['taxonomies']:\n",
    "    if taxonomy['name'] == new_taxonomy.name:\n",
    "        # The taxonomy already exists, we update it\n",
    "        taxonomy['version'] += 1\n",
    "        taxonomy['description'] = new_taxonomy.description\n",
    "        is_new = False\n",
    "        \n",
    "if is_new:\n",
    "    # It is a new taxonomy, we add it in the manifest\n",
    "    manifest['taxonomies'].append(\n",
    "        {\n",
    "            'version': new_taxonomy.version,\n",
    "            'name': new_taxonomy.name,\n",
    "            'description': new_taxonomy.description\n",
    "        }\n",
    "    )\n",
    "    \n",
    "with open(taxonomies_path / 'MANIFEST.json', 'wt', encoding='utf-8') as f:\n",
    "    f.write(json.dumps(manifest, indent=2, ensure_ascii=False))\n",
    "    \n",
    "if not (taxonomies_path / new_taxonomy.name).exists():\n",
    "    (taxonomies_path / new_taxonomy.name).mkdir()\n",
    "    \n",
    "with open(taxonomies_path / new_taxonomy.name / 'machinetag.json', 'wt', encoding='utf-8') as f:\n",
    "    json.dump(new_taxonomy.to_dict(), f, indent=2, ensure_ascii=False)"
   ]
  },
  {
   "cell_type": "markdown",
   "id": "37a04969",
   "metadata": {},
   "source": [
    "# Edit a taxonomy"
   ]
  },
  {
   "cell_type": "code",
   "execution_count": null,
   "id": "22dc1735",
   "metadata": {},
   "outputs": [],
   "source": [
    "from pytaxonomies import Taxonomies\n",
    "\n",
    "taxonomies = Taxonomies()\n",
    "\n",
    "edited_taxonomy = taxonomies['false-positive']\n",
    "\n",
    "edited_taxonomy.predicates['risk'].entries['low'].numerical_value = 25"
   ]
  },
  {
   "cell_type": "markdown",
   "id": "e783788b",
   "metadata": {},
   "source": [
    "## Save the edited taxonomy"
   ]
  },
  {
   "cell_type": "code",
   "execution_count": null,
   "id": "bfb25c54",
   "metadata": {},
   "outputs": [],
   "source": [
    "import json\n",
    "from pathlib import Path\n",
    "\n",
    "taxonomies_path = Path().resolve().parent / 'pytaxonomies' / 'data' / 'misp-taxonomies'\n",
    "\n",
    "with open(taxonomies_path / 'MANIFEST.json', 'rt', encoding='utf-8') as m:\n",
    "    manifest = json.load(m)\n",
    "    \n",
    "# We check if the taxonomy already exists.\n",
    "exists = False\n",
    "for taxonomy in manifest['taxonomies']:\n",
    "    if taxonomy['name'] == edited_taxonomy.name:\n",
    "        taxonomy['version'] += 1\n",
    "        edited_taxonomy.version = taxonomy['version']\n",
    "        taxonomy['description'] = edited_taxonomy.description\n",
    "        exists = True\n",
    "        \n",
    "if not exists:\n",
    "    raise Exception(f'The {edited_taxonomy.name} Taxonomy does not exist in the manifest.')\n",
    "    \n",
    "with open(taxonomies_path / 'MANIFEST.json', 'w', encoding='utf-8') as f:\n",
    "    json.dump(manifest, f, indent=2, ensure_ascii=False)\n",
    "    \n",
    "with open(taxonomies_path / edited_taxonomy.name / 'machinetag.json', 'w', encoding='utf-8') as f:\n",
    "    json.dump(edited_taxonomy.to_dict(), f, indent=2, ensure_ascii=False)"
   ]
  }
 ],
 "metadata": {
  "kernelspec": {
   "display_name": "Python 3 (ipykernel)",
   "language": "python",
   "name": "python3"
  },
  "language_info": {
   "codemirror_mode": {
    "name": "ipython",
    "version": 3
   },
   "file_extension": ".py",
   "mimetype": "text/x-python",
   "name": "python",
   "nbconvert_exporter": "python",
   "pygments_lexer": "ipython3",
   "version": "3.10.6"
  }
 },
 "nbformat": 4,
 "nbformat_minor": 5
}
