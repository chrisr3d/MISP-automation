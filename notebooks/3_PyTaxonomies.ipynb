{
 "cells": [
  {
   "cell_type": "markdown",
   "id": "c37c6771",
   "metadata": {},
   "source": [
    "# Basics\n",
    "\n",
    "## Taxonomies basic information"
   ]
  },
  {
   "cell_type": "code",
   "execution_count": null,
   "id": "5249c975",
   "metadata": {},
   "outputs": [],
   "source": [
    "from pytaxonomies import Taxonomies\n",
    "\n",
    "taxonomies = Taxonomies()\n",
    "print(f'Version: {taxonomies.version}')\n",
    "print(f'License: {taxonomies.license}')\n",
    "print(f'Description: {taxonomies.description}')\n",
    "print(f'Number of taxonomies: {len(taxonomies)}')\n",
    "print(f'Names: {list(taxonomies.keys())}')"
   ]
  },
  {
   "cell_type": "markdown",
   "id": "4cb19812",
   "metadata": {},
   "source": [
    "## Get information on a specific taxonomy"
   ]
  },
  {
   "cell_type": "code",
   "execution_count": null,
   "id": "fb55ea87",
   "metadata": {},
   "outputs": [],
   "source": [
    "# Pick whichever taxonomy name\n",
    "namespace = 'honeypot-basic'"
   ]
  },
  {
   "cell_type": "markdown",
   "id": "84c85659",
   "metadata": {},
   "source": [
    "### Standard information on the taxonomy"
   ]
  },
  {
   "cell_type": "code",
   "execution_count": null,
   "id": "8d1e6dd1",
   "metadata": {},
   "outputs": [],
   "source": [
    "taxonomy = taxonomies.get(namespace)\n",
    "for feature in ('name', 'version', 'description'):\n",
    "    print(f'{feature}: {getattr(taxonomy, feature)}')\n",
    "print()\n",
    "print(f'Number of predicates: {len(taxonomy)}')\n",
    "print(f'Number of entries: {taxonomy.amount_entries()}')"
   ]
  },
  {
   "cell_type": "markdown",
   "id": "b42db7c7",
   "metadata": {},
   "source": [
    "### Overview of the predicates"
   ]
  },
  {
   "cell_type": "code",
   "execution_count": null,
   "id": "2b6e0249",
   "metadata": {},
   "outputs": [],
   "source": [
    "print(f'predicates: {list(taxonomy.keys())}\\n')\n",
    "\n",
    "for predicate, values in taxonomy.predicates.items():\n",
    "    if len(values.keys()) == 0:\n",
    "        print(predicate)\n",
    "    else:\n",
    "        print(f'{predicate}:')\n",
    "        for value in values:\n",
    "            print(f' - {value}')"
   ]
  },
  {
   "cell_type": "markdown",
   "id": "4368690c",
   "metadata": {},
   "source": [
    "### Detailed information on the predicates and their values"
   ]
  },
  {
   "cell_type": "code",
   "execution_count": null,
   "id": "ab331181",
   "metadata": {},
   "outputs": [],
   "source": [
    "# Pick wichever of the predicates displayed above\n",
    "predicate_name = 'data-capture'\n",
    "predicate = taxonomy.get(predicate_name)"
   ]
  },
  {
   "cell_type": "code",
   "execution_count": null,
   "id": "9b9b64ae",
   "metadata": {},
   "outputs": [],
   "source": [
    "# In the case of TLP & PAP, there are only predicates\n",
    "if len(predicate.keys()) == 0:\n",
    "    for feature in ('predicate', 'expanded', 'description'):\n",
    "        print(f'{feature}: {getattr(predicate, feature)}')\n",
    "else:\n",
    "    for value in predicate.keys():\n",
    "        print(f'{value}:')\n",
    "        for feature in ('value', 'expanded', 'description'):\n",
    "            print(f' - {feature}: {getattr(predicate.get(value), feature)}')"
   ]
  },
  {
   "cell_type": "markdown",
   "id": "32eddbf5",
   "metadata": {},
   "source": [
    "#### And the easiest way"
   ]
  },
  {
   "cell_type": "code",
   "execution_count": null,
   "id": "25e2d890",
   "metadata": {},
   "outputs": [],
   "source": [
    "# It will fail if there are only predicates and no values\n",
    "\n",
    "value = 'network-capture'\n",
    "print(f'value: {predicate.get(value).value}')\n",
    "print(f'expanded value: {predicate.get(value).expanded}')\n",
    "print(f'description: {predicate.get(value).description}')\n",
    "print()\n",
    "\n",
    "# or directly\n",
    "print(taxonomies.get(namespace).get(predicate_name).get(value).value)"
   ]
  },
  {
   "cell_type": "markdown",
   "id": "db34c007",
   "metadata": {},
   "source": [
    "### Display the tags"
   ]
  },
  {
   "cell_type": "code",
   "execution_count": null,
   "id": "ba01a30b",
   "metadata": {},
   "outputs": [],
   "source": [
    "print(taxonomy.machinetags())\n",
    "print(f'\\nAnd with the expanded values:\\n{taxonomy.machinetags_expanded()}')"
   ]
  },
  {
   "cell_type": "markdown",
   "id": "a4b92371",
   "metadata": {},
   "source": [
    "# Create a new taxonomy\n",
    "\n",
    "## Declare a new Taxonomy"
   ]
  },
  {
   "cell_type": "code",
   "execution_count": null,
   "id": "4d13f83f",
   "metadata": {},
   "outputs": [],
   "source": [
    "from pytaxonomies import Taxonomy\n",
    "\n",
    "new_taxonomy = Taxonomy()\n",
    "\n",
    "new_taxonomy.name = \"dark-web\"\n",
    "new_taxonomy.description = (\n",
    "    \"Criminal motivation and content detection the dark web: A categorisation model for law enforcement. \"\n",
    "    \"ref: Janis Dalins, Campbell Wilson, Mark Carman. \"\n",
    "    \"Taxonomy updated by MISP Project and extended by the JRC (Joint Research Centre) of the European Commission.\"\n",
    ")\n",
    "new_taxonomy.version = 20240209\n",
    "new_taxonomy.expanded = \"Dark Web\"\n",
    "\n",
    "print(new_taxonomy.to_json())"
   ]
  },
  {
   "cell_type": "markdown",
   "id": "bda73920-1a83-432d-8d0c-1e4f6c09d8b8",
   "metadata": {},
   "source": [
    "## Load the predicates data"
   ]
  },
  {
   "cell_type": "code",
   "execution_count": null,
   "id": "f18ca607-722e-49e4-93fc-b4ee818d1de1",
   "metadata": {},
   "outputs": [],
   "source": [
    "from pathlib import Path\n",
    "\n",
    "with open(Path().resolve() / 'test_taxonomy_predicates.csv') as f:\n",
    "    predicate_lines = f.readlines()\n",
    "\n",
    "print(lines[0])"
   ]
  },
  {
   "cell_type": "markdown",
   "id": "bcce282e",
   "metadata": {},
   "source": [
    "## Declare the predicates\n",
    "\n",
    "We declare the predicates and store them so we can add entries later."
   ]
  },
  {
   "cell_type": "code",
   "execution_count": null,
   "id": "90191aa0-c95d-466f-b7c5-13dbb77ebb09",
   "metadata": {},
   "outputs": [],
   "source": [
    "from pytaxonomies import Predicate\n",
    "\n",
    "predicates = {}\n",
    "\n",
    "for line in predicate_lines[1:]:\n",
    "    new_predicate = Predicate()\n",
    "    value, expanded, description = line.strip('\\n').split('|')\n",
    "    new_predicate.predicate = value\n",
    "    new_predicate.expanded = expanded\n",
    "    new_predicate.description = description\n",
    "    print(new_predicate.to_json())\n",
    "    predicates[value] = new_predicate"
   ]
  },
  {
   "cell_type": "markdown",
   "id": "098361cf-60cc-4ca7-a128-c29993393c8c",
   "metadata": {},
   "source": [
    "## Load the entries data"
   ]
  },
  {
   "cell_type": "code",
   "execution_count": null,
   "id": "6a421140-0f7f-47fc-82cc-b960bf266efb",
   "metadata": {},
   "outputs": [],
   "source": [
    "with open(Path().resolve() / 'test_taxonomy_entries.csv') as f:\n",
    "    entry_lines = f.readlines()\n",
    "\n",
    "# Show the header\n",
    "print(lines[0])"
   ]
  },
  {
   "cell_type": "markdown",
   "id": "1743fc48",
   "metadata": {},
   "source": [
    "## Declare the entries\n",
    "\n",
    "We declare the entries and add them to the related predicate"
   ]
  },
  {
   "cell_type": "code",
   "execution_count": null,
   "id": "9f7d1c93",
   "metadata": {},
   "outputs": [],
   "source": [
    "from pytaxonomies import Entry\n",
    "\n",
    "for line in entry_lines[1:]:\n",
    "    predicate, value, expanded, description = line.strip('\\n').split('|')\n",
    "    entry = Entry()\n",
    "    entry.value = value\n",
    "    entry.expanded = expanded\n",
    "    entry.description = description\n",
    "    predicates[predicate].entries[value] = entry\n"
   ]
  },
  {
   "cell_type": "markdown",
   "id": "e5d71407-774c-4c95-8eef-d79dda4026f7",
   "metadata": {},
   "source": [
    "## Add the predicates to the new taxonomy"
   ]
  },
  {
   "cell_type": "code",
   "execution_count": null,
   "id": "d7c398d5",
   "metadata": {},
   "outputs": [],
   "source": [
    "new_taxonomy.predicates = {name: predicate for name, predicate in predicates.items()}"
   ]
  },
  {
   "cell_type": "code",
   "execution_count": null,
   "id": "0273563e",
   "metadata": {},
   "outputs": [],
   "source": [
    "print(new_taxonomy.machinetags())"
   ]
  },
  {
   "cell_type": "markdown",
   "id": "f89f4613",
   "metadata": {},
   "source": [
    "## Add the new taxonomy in the repository"
   ]
  },
  {
   "cell_type": "code",
   "execution_count": null,
   "id": "84e4a265",
   "metadata": {},
   "outputs": [],
   "source": [
    "import json\n",
    "from pathlib import Path\n",
    "\n",
    "taxonomies_path = Path().resolve().parent / 'PyTaxonomies' / 'pytaxonomies' / 'data' / 'misp-taxonomies'\n",
    "\n",
    "with open(taxonomies_path / 'MANIFEST.json', 'rt', encoding='utf-8') as m:\n",
    "    manifest = json.load(m)\n",
    "    \n",
    "# We check if the taxonomy already exists.\n",
    "is_new = True\n",
    "for taxonomy in manifest['taxonomies']:\n",
    "    if taxonomy['name'] == new_taxonomy.name:\n",
    "        # The taxonomy already exists, we update it\n",
    "        taxonomy['version'] += 1\n",
    "        taxonomy['description'] = new_taxonomy.description\n",
    "        is_new = False\n",
    "        \n",
    "if is_new:\n",
    "    # It is a new taxonomy, we add it in the manifest\n",
    "    manifest['taxonomies'].append(\n",
    "        {\n",
    "            'version': new_taxonomy.version,\n",
    "            'name': new_taxonomy.name,\n",
    "            'description': new_taxonomy.description\n",
    "        }\n",
    "    )\n",
    "    \n",
    "with open(taxonomies_path / 'MANIFEST.json', 'wt', encoding='utf-8') as f:\n",
    "    f.write(json.dumps(manifest, indent=2, ensure_ascii=False))\n",
    "    \n",
    "if not (taxonomies_path / new_taxonomy.name).exists():\n",
    "    (taxonomies_path / new_taxonomy.name).mkdir()\n",
    "    \n",
    "with open(taxonomies_path / new_taxonomy.name / 'machinetag.json', 'wt', encoding='utf-8') as f:\n",
    "    json.dump(new_taxonomy.to_dict(), f, indent=2, ensure_ascii=False)"
   ]
  },
  {
   "cell_type": "markdown",
   "id": "37a04969",
   "metadata": {},
   "source": [
    "# Edit a taxonomy"
   ]
  },
  {
   "cell_type": "code",
   "execution_count": null,
   "id": "22dc1735",
   "metadata": {},
   "outputs": [],
   "source": [
    "from pytaxonomies import Taxonomies\n",
    "\n",
    "taxonomies = Taxonomies()\n",
    "\n",
    "edited_taxonomy = taxonomies['dark-web']\n",
    "\n",
    "edited_taxonomy.version = 5"
   ]
  },
  {
   "cell_type": "markdown",
   "id": "e783788b",
   "metadata": {},
   "source": [
    "## Save the edited taxonomy"
   ]
  },
  {
   "cell_type": "code",
   "execution_count": null,
   "id": "bfb25c54",
   "metadata": {},
   "outputs": [],
   "source": [
    "import json\n",
    "from pathlib import Path\n",
    "\n",
    "taxonomies_path = Path().resolve().parent / 'PyTaxonomies' / 'pytaxonomies' / 'data' / 'misp-taxonomies'\n",
    "\n",
    "with open(taxonomies_path / 'MANIFEST.json', 'rt', encoding='utf-8') as m:\n",
    "    manifest = json.load(m)\n",
    "    \n",
    "# We check if the taxonomy already exists.\n",
    "exists = False\n",
    "for taxonomy in manifest['taxonomies']:\n",
    "    if taxonomy['name'] == edited_taxonomy.name:\n",
    "        taxonomy['version'] = edited_taxonomy.version\n",
    "        taxonomy['description'] = edited_taxonomy.description\n",
    "        exists = True\n",
    "        \n",
    "if not exists:\n",
    "    raise Exception(f'The {edited_taxonomy.name} Taxonomy does not exist in the manifest.')\n",
    "    \n",
    "with open(taxonomies_path / 'MANIFEST.json', 'w', encoding='utf-8') as f:\n",
    "    json.dump(manifest, f, indent=2, ensure_ascii=False)\n",
    "    \n",
    "with open(taxonomies_path / edited_taxonomy.name / 'machinetag.json', 'w', encoding='utf-8') as f:\n",
    "    json.dump(edited_taxonomy.to_dict(), f, indent=2, ensure_ascii=False)"
   ]
  },
  {
   "cell_type": "code",
   "execution_count": null,
   "id": "d1f39131-eab3-4cd5-a07d-8ed7e7d129c8",
   "metadata": {},
   "outputs": [],
   "source": []
  }
 ],
 "metadata": {
  "kernelspec": {
   "display_name": "Python 3 (ipykernel)",
   "language": "python",
   "name": "python3"
  },
  "language_info": {
   "codemirror_mode": {
    "name": "ipython",
    "version": 3
   },
   "file_extension": ".py",
   "mimetype": "text/x-python",
   "name": "python",
   "nbconvert_exporter": "python",
   "pygments_lexer": "ipython3",
   "version": "3.12.1"
  }
 },
 "nbformat": 4,
 "nbformat_minor": 5
}
